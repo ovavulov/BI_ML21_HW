{
 "cells": [
  {
   "cell_type": "markdown",
   "metadata": {},
   "source": [
    "# Случайные леса\n",
    "__Суммарное количество баллов: 10__\n",
    "\n",
    "В этом задании вам предстоит реализовать ансамбль деревьев решений, известный как случайный лес, применить его к публичным данным и сравнить его эффективность с ансамблями из самых популярных библиотек."
   ]
  },
  {
   "cell_type": "code",
   "execution_count": 1,
   "metadata": {},
   "outputs": [],
   "source": [
    "import warnings\n",
    "warnings.filterwarnings(\"ignore\")\n",
    "\n",
    "import os\n",
    "from sklearn.model_selection import train_test_split\n",
    "import numpy as np\n",
    "import pandas as pd\n",
    "import random\n",
    "import matplotlib.pyplot as plt\n",
    "import matplotlib\n",
    "import copy\n",
    "from tqdm import tqdm\n",
    "from tree import DecisionTreeClassifier\n",
    "from sklearn.metrics import accuracy_score\n",
    "from scipy import stats\n",
    "from hyperopt import fmin, hp, Trials, anneal\n",
    "from sklearn.model_selection import cross_val_score, StratifiedKFold\n",
    "import multiprocessing as mp\n",
    "from sklearn.metrics import roc_auc_score, average_precision_score, roc_curve, \\\n",
    "                            precision_recall_curve, classification_report\n",
    "\n",
    "\n",
    "SEED = 19"
   ]
  },
  {
   "cell_type": "markdown",
   "metadata": {},
   "source": [
    "### Задание 1 (3 балла)\n",
    "Реализуем сам Random Forest. Идея очень простая: строим `n` деревьев, а затем берем модальное предсказание. Используйте реализацию дерева из HW3.\n",
    "\n",
    "#### Параметры конструктора\n",
    "`n_estimators` - количество используемых для предсказания деревьев.\n",
    "\n",
    "Остальное - параметры деревьев.\n",
    "\n",
    "#### Методы\n",
    "`fit(X, y)` - строит `n_estimators` деревьев по выборке `X`.\n",
    "\n",
    "`predict(X)` - для каждого элемента выборки `X` возвращает самый частый класс, который предсказывают для него деревья."
   ]
  },
  {
   "cell_type": "code",
   "execution_count": 2,
   "metadata": {},
   "outputs": [],
   "source": [
    "# случайная функция, которая выдает в среднем корень из общего числа признаков\n",
    "def subspace_fn(n):\n",
    "    return int(np.sqrt(n)) + np.random.binomial(1, np.sqrt(n) - int(np.sqrt(n)))"
   ]
  },
  {
   "cell_type": "code",
   "execution_count": 3,
   "metadata": {},
   "outputs": [],
   "source": [
    "# основная рабочая функция, которую будем параллелить\n",
    "def tree_planting(params):\n",
    "    # входные параметры\n",
    "    (X, y), tree_params, score_fn, subspace = params\n",
    "\n",
    "    # бутстреп сэмплинг\n",
    "    idxs = np.random.choice(X.index, size=len(X))\n",
    "    X_sampled = X.loc[idxs, :].reset_index(drop=True)\n",
    "    y_sampled = y.loc[idxs].reset_index(drop=True)\n",
    "\n",
    "    # обучаем дерево на случайных подпространствах\n",
    "    tree = DecisionTreeClassifier(**tree_params)\n",
    "    tree.fit(X_sampled, y_sampled, subspace=subspace)\n",
    "\n",
    "    # оцениваем ошибку out-of-bag\n",
    "    idxs_out = list(set(X.index) - set(idxs))\n",
    "    X_oob = X.loc[idxs_out, :]\n",
    "    y_oob = y.loc[idxs_out]\n",
    "    oob_score = score_fn(y_oob, tree.predict(X_oob))\n",
    "\n",
    "    # оцениваем значимость признаков\n",
    "    score_decreases = []\n",
    "    for col in X_oob.columns:\n",
    "        X_shuffled = X_oob.copy()\n",
    "        shuffle_idxs = np.random.choice(X_oob.index, len(X_oob), replace=False)\n",
    "        X_shuffled[col] = X[col][shuffle_idxs].values\n",
    "        oob_score_shuffled = score_fn(y_oob, tree.predict(X_shuffled))\n",
    "        score_decreases.append(oob_score - oob_score_shuffled)\n",
    "\n",
    "    return tree, oob_score, score_decreases"
   ]
  },
  {
   "cell_type": "code",
   "execution_count": 4,
   "metadata": {},
   "outputs": [],
   "source": [
    "# функция предсказания, которую тоже будем параллелить\n",
    "def predict_fn(params):\n",
    "    X, tree = params\n",
    "    return tree.predict(X)"
   ]
  },
  {
   "cell_type": "code",
   "execution_count": 5,
   "metadata": {},
   "outputs": [],
   "source": [
    "class RandomForestClassifier:\n",
    "    \n",
    "    def __init__(self, criterion=\"gini\", max_depth=None, min_samples_leaf=1, \n",
    "                 max_features=\"auto\", n_estimators=10, score_fn=accuracy_score, verbose=True):\n",
    "        assert criterion in [\"gini\", \"entropy\"]\n",
    "        assert max_depth is None or max_depth > 0 and int(max_depth) == max_depth\n",
    "        assert min_samples_leaf > 0 and int(min_samples_leaf) == min_samples_leaf\n",
    "        assert max_features == \"auto\" or max_depth > 0 and int(max_depth) == max_depth\n",
    "        assert n_estimators > 0 and int(n_estimators) == n_estimators\n",
    "        self.tree_params = {\n",
    "            \"criterion\": criterion,\n",
    "            \"max_depth\": max_depth,\n",
    "            \"min_samples_leaf\": min_samples_leaf\n",
    "        }\n",
    "        self.max_features = max_features\n",
    "        self.n_estimators = n_estimators\n",
    "        self.trees = []\n",
    "        self.oob = []\n",
    "        self.score_fn = score_fn\n",
    "        self.feature_importance = []\n",
    "        self.verbose = verbose\n",
    "        self.result = None\n",
    "    \n",
    "    def fit(self, X, y):\n",
    "        \n",
    "        subspace = subspace_fn if self.max_features == \"auto\" else self.max_features\n",
    "        \n",
    "        # параллельное построение деревьев\n",
    "        params = ((X, y), self.tree_params, self.score_fn, subspace)\n",
    "        pool = mp.Pool(mp.cpu_count())\n",
    "        results = pool.map(tree_planting, (params for i in range(self.n_estimators)))\n",
    "        pool.close()\n",
    "        pool.join()\n",
    "        \n",
    "        # структурируем результаты\n",
    "        self.feature_importance = []\n",
    "        for result in results:\n",
    "            self.trees.append(result[0])\n",
    "            self.oob.append(result[1])\n",
    "            self.feature_importance.append(result[2])\n",
    "        self.feature_importance = pd.Series(data=np.array(self.feature_importance).mean(axis=0), index=X.columns)\n",
    "                \n",
    "            \n",
    "    def predict(self, X):\n",
    "        pool = mp.Pool(mp.cpu_count())\n",
    "        votes = pool.map(predict_fn, ((X, tree) for tree in self.trees))\n",
    "        pool.close()\n",
    "        pool.join()\n",
    "        votes = pd.concat(votes, axis=1).values\n",
    "        y_pred = stats.mode(votes, axis=1)[0].reshape(1, -1)[0]\n",
    "        return y_pred"
   ]
  },
  {
   "cell_type": "markdown",
   "metadata": {},
   "source": [
    "### Задание 3 (2 балла)\n",
    "Оптимизируйте по `AUC` на кроссвалидации (размер валидационной выборки - 20%) параметры своей реализации `Random Forest`: \n",
    "\n",
    "максимальную глубину деревьев из [2, 3, 5, 7, 10], количество деревьев из [5, 10, 20, 30, 50, 100]. \n",
    "\n",
    "Постройте `ROC` кривую (и выведите `AUC` и `accuracy`) для лучшего варианта.\n",
    "\n",
    "Подсказка: можно построить сразу 100 деревьев глубины 10, а потом убирать деревья и\n",
    "глубину."
   ]
  },
  {
   "cell_type": "code",
   "execution_count": 6,
   "metadata": {},
   "outputs": [],
   "source": [
    "def find_best_rf_params(X, y, n_splits, space, max_evals):\n",
    "    \n",
    "    space_hp = {\n",
    "        \"max_depth\": hp.choice(\"max_depth\", space[\"max_depth\"]),\n",
    "        \"n_estimators\": hp.choice(\"n_estimators\", space[\"n_estimators\"])\n",
    "    }\n",
    "    \n",
    "    def cross_val_loss(params, X=X, y=y, n_splits=n_splits):\n",
    "        params[\"n_estimators\"] = int(params[\"n_estimators\"])\n",
    "        params[\"max_depth\"] = int(params[\"max_depth\"])\n",
    "        model = RandomForestClassifier(**params)\n",
    "        skf = StratifiedKFold(n_splits=n_splits)\n",
    "        scores = []\n",
    "        for train_index, val_index in skf.split(X, y):\n",
    "            X_t, X_v = X.iloc[train_index, :], X.iloc[val_index, :]\n",
    "            y_t, y_v = y.iloc[train_index], y.iloc[val_index]\n",
    "            model.fit(X_t, y_t)\n",
    "            y_p = model.predict(X_v)\n",
    "            scores.append(accuracy_score(y_v, y_p))\n",
    "        return -np.mean(scores)\n",
    "    \n",
    "    best = fmin(cross_val_loss, space_hp, anneal.suggest, max_evals=max_evals, rstate=np.random.RandomState(SEED))\n",
    "    best_values = {param: space[param][best[param]] for param in space.keys()}\n",
    "    return best_values"
   ]
  },
  {
   "cell_type": "code",
   "execution_count": 7,
   "metadata": {},
   "outputs": [],
   "source": [
    "def synthetic_dataset(size):\n",
    "    X = [(np.random.randint(0, 2), np.random.randint(0, 2), i % 6 == 3, \n",
    "          i % 6 == 0, i % 3 == 2, np.random.randint(0, 2)) for i in range(size)]\n",
    "    y = [i % 3 for i in range(size)]\n",
    "    return pd.DataFrame(np.array(X)), pd.Series(np.array(y))\n",
    "\n",
    "X, y = synthetic_dataset(1000)"
   ]
  },
  {
   "cell_type": "code",
   "execution_count": 8,
   "metadata": {},
   "outputs": [
    {
     "name": "stdout",
     "output_type": "stream",
     "text": [
      "100%|██████████| 5/5 [03:42<00:00, 44.56s/trial, best loss: -1.0]               \n"
     ]
    }
   ],
   "source": [
    "space = {\n",
    "    \"max_depth\": [2, 3, 5, 7, 10],\n",
    "    \"n_estimators\": [5, 10, 20, 30, 50]\n",
    "}\n",
    "\n",
    "best_params = find_best_rf_params(X, y, n_splits=3, space=space, max_evals=5)"
   ]
  },
  {
   "cell_type": "code",
   "execution_count": 9,
   "metadata": {},
   "outputs": [
    {
     "data": {
      "text/plain": [
       "{'max_depth': 10, 'n_estimators': 10}"
      ]
     },
     "execution_count": 9,
     "metadata": {},
     "output_type": "execute_result"
    }
   ],
   "source": [
    "best_params"
   ]
  },
  {
   "cell_type": "markdown",
   "metadata": {},
   "source": [
    "### Задание 4 (3 балла)\n",
    "Часто хочется понимать, насколько большую роль играет тот или иной признак для предсказания класса объекта. Есть различные способы посчитать его важность. Один из простых способов сделать это для Random Forest выглядит так:\n",
    "1. Посчитать out-of-bag ошибку предсказания `err_oob` (https://en.wikipedia.org/wiki/Out-of-bag_error)\n",
    "2. Перемешать значения признака `j` у объектов выборки (у каждого из объектов изменится значение признака `j` на какой-то другой)\n",
    "3. Посчитать out-of-bag ошибку (`err_oob_j`) еще раз.\n",
    "4. Оценкой важности признака `j` для одного дерева будет разность `err_oob_j - err_oob`, важность для всего леса считается как среднее значение важности по деревьям.\n",
    "\n",
    "Реализуйте функцию `feature_importance`, которая принимает на вход Random Forest и возвращает массив, в котором содержится важность для каждого признака."
   ]
  },
  {
   "cell_type": "code",
   "execution_count": 10,
   "metadata": {},
   "outputs": [],
   "source": [
    "def feature_importance(rfc):\n",
    "    raise NotImplementedError()\n",
    "\n",
    "def most_important_features(importance, names, k=20):\n",
    "    # Выводит названия k самых важных признаков\n",
    "    idicies = np.argsort(importance)[::-1][:k]\n",
    "    return np.array(names)[idicies]"
   ]
  },
  {
   "cell_type": "markdown",
   "metadata": {},
   "source": [
    "Протестируйте решение на простом синтетическом наборе данных. В результате должна получиться точность `1.0`, наибольшее значение важности должно быть у признака с индексом `4`, признаки с индексами `2` и `3`  должны быть одинаково важны, а остальные признаки - не важны совсем."
   ]
  },
  {
   "cell_type": "code",
   "execution_count": 11,
   "metadata": {},
   "outputs": [
    {
     "name": "stdout",
     "output_type": "stream",
     "text": [
      "CPU times: user 265 ms, sys: 72.7 ms, total: 337 ms\n",
      "Wall time: 45.5 s\n"
     ]
    }
   ],
   "source": [
    "%%time\n",
    "def synthetic_dataset(size):\n",
    "    X = [(np.random.randint(0, 2), np.random.randint(0, 2), i % 6 == 3, \n",
    "          i % 6 == 0, i % 3 == 2, np.random.randint(0, 2)) for i in range(size)]\n",
    "    y = [i % 3 for i in range(size)]\n",
    "    return pd.DataFrame(np.array(X)), pd.Series(np.array(y))\n",
    "\n",
    "X, y = synthetic_dataset(1000)\n",
    "rfc = RandomForestClassifier(n_estimators=100)\n",
    "rfc.fit(X, y)"
   ]
  },
  {
   "cell_type": "code",
   "execution_count": 12,
   "metadata": {},
   "outputs": [
    {
     "name": "stdout",
     "output_type": "stream",
     "text": [
      "Accuracy: 0.982\n",
      "Importance:\n",
      "0   -0.001201\n",
      "1   -0.001436\n",
      "2    0.161363\n",
      "3    0.170365\n",
      "4    0.330237\n",
      "5   -0.001674\n",
      "dtype: float64\n"
     ]
    }
   ],
   "source": [
    "print(\"Accuracy:\", np.mean(rfc.predict(X) == y))\n",
    "print(f\"Importance:\\n{rfc.feature_importance}\")"
   ]
  },
  {
   "cell_type": "markdown",
   "metadata": {},
   "source": [
    "Проверьте, какие признаки важны для датасетов cancer и spam?"
   ]
  },
  {
   "cell_type": "code",
   "execution_count": 13,
   "metadata": {},
   "outputs": [],
   "source": [
    "home_path = os.getcwd()\n",
    "CANCER_DATA_PATH = os.path.join(home_path, \"hw2_data\", \"cancer.csv\")\n",
    "SPAM_DATA_PATH = os.path.join(home_path, \"hw2_data\", \"spam.csv\")"
   ]
  },
  {
   "cell_type": "code",
   "execution_count": 14,
   "metadata": {},
   "outputs": [],
   "source": [
    "def read_cancer_dataset(path_to_csv):\n",
    "    df = pd.read_csv(path_to_csv)\n",
    "    X, y = df.drop(\"label\", axis=1), df.label\n",
    "    return X, y\n",
    "\n",
    "def read_spam_dataset(path_to_csv):\n",
    "    return read_cancer_dataset(path_to_csv)"
   ]
  },
  {
   "cell_type": "code",
   "execution_count": 15,
   "metadata": {},
   "outputs": [],
   "source": [
    "X_cancer, y_cancer = read_cancer_dataset(CANCER_DATA_PATH)\n",
    "y_cancer = y_cancer.map({\"M\": 0, \"B\": 1})\n",
    "X_spam, y_spam = read_spam_dataset(SPAM_DATA_PATH)"
   ]
  },
  {
   "cell_type": "markdown",
   "metadata": {},
   "source": [
    "# Cancer"
   ]
  },
  {
   "cell_type": "code",
   "execution_count": 16,
   "metadata": {},
   "outputs": [],
   "source": [
    "np.random.seed(SEED)\n",
    "X_train, X_test, y_train, y_test = train_test_split(X_cancer, y_cancer, test_size=0.2)"
   ]
  },
  {
   "cell_type": "code",
   "execution_count": 17,
   "metadata": {},
   "outputs": [
    {
     "name": "stdout",
     "output_type": "stream",
     "text": [
      "CPU times: user 281 ms, sys: 101 ms, total: 381 ms\n",
      "Wall time: 20.9 s\n"
     ]
    }
   ],
   "source": [
    "%%time\n",
    "rfc = RandomForestClassifier(n_estimators=20)\n",
    "rfc.fit(X_train, y_train)\n",
    "y_pred = rfc.predict(X_test)"
   ]
  },
  {
   "cell_type": "code",
   "execution_count": 18,
   "metadata": {},
   "outputs": [
    {
     "name": "stdout",
     "output_type": "stream",
     "text": [
      "              precision    recall  f1-score   support\n",
      "\n",
      "           0       0.93      0.89      0.91        45\n",
      "           1       0.93      0.96      0.94        69\n",
      "\n",
      "    accuracy                           0.93       114\n",
      "   macro avg       0.93      0.92      0.93       114\n",
      "weighted avg       0.93      0.93      0.93       114\n",
      "\n"
     ]
    }
   ],
   "source": [
    "print(classification_report(y_test, y_pred))"
   ]
  },
  {
   "cell_type": "markdown",
   "metadata": {},
   "source": [
    "# Spam"
   ]
  },
  {
   "cell_type": "code",
   "execution_count": 19,
   "metadata": {},
   "outputs": [],
   "source": [
    "np.random.seed(SEED)\n",
    "X_train, X_test, y_train, y_test = train_test_split(X_spam, y_spam, test_size=0.2)"
   ]
  },
  {
   "cell_type": "code",
   "execution_count": 20,
   "metadata": {},
   "outputs": [
    {
     "name": "stdout",
     "output_type": "stream",
     "text": [
      "CPU times: user 4.15 s, sys: 436 ms, total: 4.59 s\n",
      "Wall time: 3min 40s\n"
     ]
    }
   ],
   "source": [
    "%%time\n",
    "rfc = RandomForestClassifier(n_estimators=20)\n",
    "rfc.fit(X_train, y_train)\n",
    "y_pred = rfc.predict(X_test)"
   ]
  },
  {
   "cell_type": "code",
   "execution_count": 21,
   "metadata": {},
   "outputs": [
    {
     "name": "stdout",
     "output_type": "stream",
     "text": [
      "              precision    recall  f1-score   support\n",
      "\n",
      "           0       0.87      0.93      0.90       550\n",
      "           1       0.88      0.80      0.84       371\n",
      "\n",
      "    accuracy                           0.88       921\n",
      "   macro avg       0.88      0.86      0.87       921\n",
      "weighted avg       0.88      0.88      0.88       921\n",
      "\n"
     ]
    }
   ],
   "source": [
    "print(classification_report(y_test, y_pred))"
   ]
  },
  {
   "cell_type": "markdown",
   "metadata": {},
   "source": [
    "Random forest демонстрирует хорошее качество"
   ]
  },
  {
   "cell_type": "markdown",
   "metadata": {},
   "source": [
    "### Задание 5 (2 балла)\n",
    "В качестве альтернативы попробуем библиотечные реализации ансамблей моделей. \n",
    "\n",
    "1. [CatBoost](https://catboost.ai/docs/)\n",
    "2. [XGBoost](https://xgboost.readthedocs.io/en/latest/)\n",
    "3. [LightGBM](https://lightgbm.readthedocs.io/en/latest/)\n"
   ]
  },
  {
   "cell_type": "markdown",
   "metadata": {},
   "source": [
    "Установите необходимые библиотеки. \n",
    "Возможно, потребуется установка дополнительных пакетов"
   ]
  },
  {
   "cell_type": "code",
   "execution_count": 22,
   "metadata": {
    "scrolled": true
   },
   "outputs": [
    {
     "name": "stdout",
     "output_type": "stream",
     "text": [
      "Requirement already up-to-date: lightgbm in /Users/a18264698/.local/lib/python3.7/site-packages (3.2.0)\n",
      "Requirement already satisfied, skipping upgrade: scipy in /opt/anaconda3/lib/python3.7/site-packages (from lightgbm) (1.3.1)\n",
      "Requirement already satisfied, skipping upgrade: scikit-learn!=0.22.0 in /Users/a18264698/.local/lib/python3.7/site-packages (from lightgbm) (0.24.1)\n",
      "Requirement already satisfied, skipping upgrade: numpy in /opt/anaconda3/lib/python3.7/site-packages (from lightgbm) (1.17.2)\n",
      "Requirement already satisfied, skipping upgrade: wheel in /opt/anaconda3/lib/python3.7/site-packages (from lightgbm) (0.33.6)\n",
      "Requirement already satisfied, skipping upgrade: joblib>=0.11 in /opt/anaconda3/lib/python3.7/site-packages (from scikit-learn!=0.22.0->lightgbm) (0.13.2)\n",
      "Requirement already satisfied, skipping upgrade: threadpoolctl>=2.0.0 in /Users/a18264698/.local/lib/python3.7/site-packages (from scikit-learn!=0.22.0->lightgbm) (2.1.0)\n",
      "Requirement already up-to-date: catboost in /Users/a18264698/.local/lib/python3.7/site-packages (0.24.4)\n",
      "Requirement already satisfied, skipping upgrade: graphviz in /Users/a18264698/.local/lib/python3.7/site-packages (from catboost) (0.16)\n",
      "Requirement already satisfied, skipping upgrade: pandas>=0.24.0 in /opt/anaconda3/lib/python3.7/site-packages (from catboost) (0.25.1)\n",
      "Requirement already satisfied, skipping upgrade: matplotlib in /opt/anaconda3/lib/python3.7/site-packages (from catboost) (3.1.1)\n",
      "Requirement already satisfied, skipping upgrade: scipy in /opt/anaconda3/lib/python3.7/site-packages (from catboost) (1.3.1)\n",
      "Requirement already satisfied, skipping upgrade: plotly in /Users/a18264698/.local/lib/python3.7/site-packages (from catboost) (4.14.3)\n",
      "Requirement already satisfied, skipping upgrade: numpy>=1.16.0 in /opt/anaconda3/lib/python3.7/site-packages (from catboost) (1.17.2)\n",
      "Requirement already satisfied, skipping upgrade: six in /opt/anaconda3/lib/python3.7/site-packages (from catboost) (1.12.0)\n",
      "Requirement already satisfied, skipping upgrade: pytz>=2017.2 in /opt/anaconda3/lib/python3.7/site-packages (from pandas>=0.24.0->catboost) (2019.3)\n",
      "Requirement already satisfied, skipping upgrade: python-dateutil>=2.6.1 in /opt/anaconda3/lib/python3.7/site-packages (from pandas>=0.24.0->catboost) (2.8.0)\n",
      "Requirement already satisfied, skipping upgrade: cycler>=0.10 in /opt/anaconda3/lib/python3.7/site-packages (from matplotlib->catboost) (0.10.0)\n",
      "Requirement already satisfied, skipping upgrade: kiwisolver>=1.0.1 in /opt/anaconda3/lib/python3.7/site-packages (from matplotlib->catboost) (1.1.0)\n",
      "Requirement already satisfied, skipping upgrade: pyparsing!=2.0.4,!=2.1.2,!=2.1.6,>=2.0.1 in /opt/anaconda3/lib/python3.7/site-packages (from matplotlib->catboost) (2.4.2)\n",
      "Requirement already satisfied, skipping upgrade: retrying>=1.3.3 in /Users/a18264698/.local/lib/python3.7/site-packages (from plotly->catboost) (1.3.3)\n",
      "Requirement already satisfied, skipping upgrade: setuptools in /opt/anaconda3/lib/python3.7/site-packages (from kiwisolver>=1.0.1->matplotlib->catboost) (41.4.0)\n",
      "Requirement already up-to-date: xgboost in /Users/a18264698/.local/lib/python3.7/site-packages (1.3.3)\n",
      "Requirement already satisfied, skipping upgrade: scipy in /opt/anaconda3/lib/python3.7/site-packages (from xgboost) (1.3.1)\n",
      "Requirement already satisfied, skipping upgrade: numpy in /opt/anaconda3/lib/python3.7/site-packages (from xgboost) (1.17.2)\n"
     ]
    }
   ],
   "source": [
    "!pip install -U --user lightgbm\n",
    "!pip install -U --user catboost\n",
    "!pip install -U --user xgboost"
   ]
  },
  {
   "cell_type": "markdown",
   "metadata": {},
   "source": [
    "Также, как и реализованный нами RandomForest, примените модели для наших датасетов.\n",
    "\n",
    "Для стандартного набора параметров у каждой модели нарисуйте `ROC` кривую и выведите `AUC` и `accuracy`.\n",
    "\n",
    "Посчитайте время обучения каждой модели (можно использовать [timeit magic](https://ipython.readthedocs.io/en/stable/interactive/magics.html#magic-timeit)). \n",
    "\n",
    "Сравните метрики качества и скорость обучения моделей. Какие выводы можно сделать?"
   ]
  },
  {
   "cell_type": "code",
   "execution_count": 23,
   "metadata": {},
   "outputs": [],
   "source": [
    "def make_classification_report(y_true, y_pred, y_proba):\n",
    "    print(classification_report(y_true, y_pred))\n",
    "\n",
    "    f, ax = plt.subplots(nrows=1, ncols=2, figsize=(15, 6))\n",
    "    fpr, tpr, thresholds = roc_curve(y_true, y_proba)\n",
    "    roc_score = roc_auc_score(y_true, y_proba)\n",
    "    ax[0].set_title(f\"ROC curve (AUC: {roc_score:.4f})\", fontsize=15)\n",
    "    ax[0].grid()\n",
    "    ax[0].plot(fpr, tpr)\n",
    "\n",
    "    fpr, tpr, thresholds = precision_recall_curve(y_true, y_proba)\n",
    "    ap_score = average_precision_score(y_true, y_proba)\n",
    "    ax[1].set_title(f\"PR curve (AUC: {ap_score:.4f})\", fontsize=15)\n",
    "    ax[1].grid()\n",
    "    ax[1].plot(fpr, tpr);"
   ]
  },
  {
   "cell_type": "code",
   "execution_count": 24,
   "metadata": {},
   "outputs": [],
   "source": [
    "np.random.seed(SEED)\n",
    "X_train_c, X_test_c, y_train_c, y_test_c = train_test_split(X_cancer, y_cancer, test_size=0.2)"
   ]
  },
  {
   "cell_type": "code",
   "execution_count": 25,
   "metadata": {},
   "outputs": [],
   "source": [
    "np.random.seed(SEED)\n",
    "X_train_s, X_test_s, y_train_s, y_test_s = train_test_split(X_spam, y_spam, test_size=0.2)"
   ]
  },
  {
   "cell_type": "markdown",
   "metadata": {},
   "source": [
    "## CatBoost"
   ]
  },
  {
   "cell_type": "code",
   "execution_count": 26,
   "metadata": {},
   "outputs": [],
   "source": [
    "from catboost import CatBoostClassifier"
   ]
  },
  {
   "cell_type": "code",
   "execution_count": 27,
   "metadata": {},
   "outputs": [
    {
     "name": "stdout",
     "output_type": "stream",
     "text": [
      "CPU times: user 2.05 s, sys: 127 ms, total: 2.18 s\n",
      "Wall time: 329 ms\n"
     ]
    }
   ],
   "source": [
    "%%time\n",
    "cb_model = CatBoostClassifier(iterations=100, eval_metric=\"AUC\", verbose=False)\n",
    "cb_model.fit(X_train_c, y_train_c)\n",
    "y_pred_c = cb_model.predict_proba(X_test_c)[:, 1]"
   ]
  },
  {
   "cell_type": "code",
   "execution_count": 28,
   "metadata": {},
   "outputs": [
    {
     "name": "stdout",
     "output_type": "stream",
     "text": [
      "              precision    recall  f1-score   support\n",
      "\n",
      "           0       1.00      0.91      0.95        45\n",
      "           1       0.95      1.00      0.97        69\n",
      "\n",
      "    accuracy                           0.96       114\n",
      "   macro avg       0.97      0.96      0.96       114\n",
      "weighted avg       0.97      0.96      0.96       114\n",
      "\n"
     ]
    },
    {
     "data": {
      "image/png": "[encoded data removed]",
      "text/plain": [
       "<Figure size 1080x432 with 2 Axes>"
      ]
     },
     "metadata": {
      "needs_background": "light"
     },
     "output_type": "display_data"
    }
   ],
   "source": [
    "make_classification_report(y_test_c, np.round(y_pred_c), y_pred_c)"
   ]
  },
  {
   "cell_type": "code",
   "execution_count": 29,
   "metadata": {},
   "outputs": [
    {
     "name": "stdout",
     "output_type": "stream",
     "text": [
      "CPU times: user 3.74 s, sys: 229 ms, total: 3.97 s\n",
      "Wall time: 528 ms\n"
     ]
    }
   ],
   "source": [
    "%%time\n",
    "cb_model.fit(X_train_s, y_train_s)\n",
    "y_pred_s = cb_model.predict_proba(X_test_s)[:, 1]"
   ]
  },
  {
   "cell_type": "code",
   "execution_count": 30,
   "metadata": {},
   "outputs": [
    {
     "name": "stdout",
     "output_type": "stream",
     "text": [
      "              precision    recall  f1-score   support\n",
      "\n",
      "           0       0.94      0.98      0.96       550\n",
      "           1       0.97      0.91      0.94       371\n",
      "\n",
      "    accuracy                           0.95       921\n",
      "   macro avg       0.95      0.94      0.95       921\n",
      "weighted avg       0.95      0.95      0.95       921\n",
      "\n"
     ]
    },
    {
     "data": {
      "image/png": "[encoded data removed]",
      "text/plain": [
       "<Figure size 1080x432 with 2 Axes>"
      ]
     },
     "metadata": {
      "needs_background": "light"
     },
     "output_type": "display_data"
    }
   ],
   "source": [
    "make_classification_report(y_test_s, np.round(y_pred_s), y_pred_s)"
   ]
  },
  {
   "cell_type": "markdown",
   "metadata": {},
   "source": [
    "## LightGBM"
   ]
  },
  {
   "cell_type": "code",
   "execution_count": 31,
   "metadata": {},
   "outputs": [],
   "source": [
    "from lightgbm import LGBMClassifier"
   ]
  },
  {
   "cell_type": "code",
   "execution_count": 32,
   "metadata": {},
   "outputs": [
    {
     "name": "stdout",
     "output_type": "stream",
     "text": [
      "CPU times: user 2 µs, sys: 1 µs, total: 3 µs\n",
      "Wall time: 3.81 µs\n"
     ]
    }
   ],
   "source": [
    "%time\n",
    "lgb_model = LGBMClassifier(n_estimators=100)\n",
    "lgb_model.fit(X_train_c, y_train_c)\n",
    "y_pred_c = lgb_model.predict_proba(X_test_c)[:, 1]"
   ]
  },
  {
   "cell_type": "code",
   "execution_count": 33,
   "metadata": {},
   "outputs": [
    {
     "name": "stdout",
     "output_type": "stream",
     "text": [
      "              precision    recall  f1-score   support\n",
      "\n",
      "           0       0.98      0.91      0.94        45\n",
      "           1       0.94      0.99      0.96        69\n",
      "\n",
      "    accuracy                           0.96       114\n",
      "   macro avg       0.96      0.95      0.95       114\n",
      "weighted avg       0.96      0.96      0.96       114\n",
      "\n"
     ]
    },
    {
     "data": {
      "image/png": "[encoded data removed]",
      "text/plain": [
       "<Figure size 1080x432 with 2 Axes>"
      ]
     },
     "metadata": {
      "needs_background": "light"
     },
     "output_type": "display_data"
    }
   ],
   "source": [
    "make_classification_report(y_test_c, np.round(y_pred_c), y_pred_c)"
   ]
  },
  {
   "cell_type": "code",
   "execution_count": 34,
   "metadata": {},
   "outputs": [
    {
     "name": "stdout",
     "output_type": "stream",
     "text": [
      "CPU times: user 1 µs, sys: 1 µs, total: 2 µs\n",
      "Wall time: 5.25 µs\n"
     ]
    }
   ],
   "source": [
    "%time\n",
    "lgb_model.fit(X_train_s.values, y_train_s.values)\n",
    "y_pred_s = lgb_model.predict_proba(X_test_s)[:, 1]"
   ]
  },
  {
   "cell_type": "code",
   "execution_count": 35,
   "metadata": {},
   "outputs": [
    {
     "name": "stdout",
     "output_type": "stream",
     "text": [
      "              precision    recall  f1-score   support\n",
      "\n",
      "           0       0.96      0.97      0.96       550\n",
      "           1       0.95      0.94      0.94       371\n",
      "\n",
      "    accuracy                           0.95       921\n",
      "   macro avg       0.95      0.95      0.95       921\n",
      "weighted avg       0.95      0.95      0.95       921\n",
      "\n"
     ]
    },
    {
     "data": {
      "image/png": "[encoded data removed]",
      "text/plain": [
       "<Figure size 1080x432 with 2 Axes>"
      ]
     },
     "metadata": {
      "needs_background": "light"
     },
     "output_type": "display_data"
    }
   ],
   "source": [
    "make_classification_report(y_test_s, np.round(y_pred_s), y_pred_s)"
   ]
  },
  {
   "cell_type": "markdown",
   "metadata": {},
   "source": [
    "## XGBoost"
   ]
  },
  {
   "cell_type": "code",
   "execution_count": 36,
   "metadata": {},
   "outputs": [],
   "source": [
    "from xgboost import XGBClassifier"
   ]
  },
  {
   "cell_type": "code",
   "execution_count": 41,
   "metadata": {},
   "outputs": [
    {
     "name": "stdout",
     "output_type": "stream",
     "text": [
      "[14:08:24] WARNING: /Users/travis/build/dmlc/xgboost/src/learner.cc:1061: Starting in XGBoost 1.3.0, the default evaluation metric used with the objective 'binary:logistic' was changed from 'error' to 'logloss'. Explicitly set eval_metric if you'd like to restore the old behavior.\n",
      "CPU times: user 863 ms, sys: 59 ms, total: 922 ms\n",
      "Wall time: 104 ms\n"
     ]
    }
   ],
   "source": [
    "%%time\n",
    "xgb_model = XGBClassifier(n_estimators=100)\n",
    "xgb_model.fit(X_train_c, y_train_c)\n",
    "y_pred_c = xgb_model.predict_proba(X_test_c)[:, 1]"
   ]
  },
  {
   "cell_type": "code",
   "execution_count": 42,
   "metadata": {},
   "outputs": [
    {
     "name": "stdout",
     "output_type": "stream",
     "text": [
      "              precision    recall  f1-score   support\n",
      "\n",
      "           0       0.98      0.91      0.94        45\n",
      "           1       0.94      0.99      0.96        69\n",
      "\n",
      "    accuracy                           0.96       114\n",
      "   macro avg       0.96      0.95      0.95       114\n",
      "weighted avg       0.96      0.96      0.96       114\n",
      "\n"
     ]
    },
    {
     "data": {
      "image/png": "[encoded data removed]",
      "text/plain": [
       "<Figure size 1080x432 with 2 Axes>"
      ]
     },
     "metadata": {
      "needs_background": "light"
     },
     "output_type": "display_data"
    }
   ],
   "source": [
    "make_classification_report(y_test_c, np.round(y_pred_c), y_pred_c)"
   ]
  },
  {
   "cell_type": "code",
   "execution_count": 43,
   "metadata": {},
   "outputs": [
    {
     "name": "stdout",
     "output_type": "stream",
     "text": [
      "[14:08:26] WARNING: /Users/travis/build/dmlc/xgboost/src/learner.cc:1061: Starting in XGBoost 1.3.0, the default evaluation metric used with the objective 'binary:logistic' was changed from 'error' to 'logloss'. Explicitly set eval_metric if you'd like to restore the old behavior.\n",
      "CPU times: user 3.28 s, sys: 91.5 ms, total: 3.37 s\n",
      "Wall time: 331 ms\n"
     ]
    }
   ],
   "source": [
    "%%time\n",
    "xgb_model.fit(X_train_s.values, y_train_s.values)\n",
    "y_pred_s = xgb_model.predict_proba(X_test_s.values)[:, 1]"
   ]
  },
  {
   "cell_type": "code",
   "execution_count": 44,
   "metadata": {},
   "outputs": [
    {
     "name": "stdout",
     "output_type": "stream",
     "text": [
      "              precision    recall  f1-score   support\n",
      "\n",
      "           0       0.95      0.97      0.96       550\n",
      "           1       0.96      0.92      0.94       371\n",
      "\n",
      "    accuracy                           0.95       921\n",
      "   macro avg       0.95      0.95      0.95       921\n",
      "weighted avg       0.95      0.95      0.95       921\n",
      "\n"
     ]
    },
    {
     "data": {
      "image/png": "[encoded data removed]",
      "text/plain": [
       "<Figure size 1080x432 with 2 Axes>"
      ]
     },
     "metadata": {
      "needs_background": "light"
     },
     "output_type": "display_data"
    }
   ],
   "source": [
    "make_classification_report(y_test_s, np.round(y_pred_s), y_pred_s)"
   ]
  },
  {
   "cell_type": "markdown",
   "metadata": {},
   "source": [
    "# Discussion"
   ]
  },
  {
   "cell_type": "markdown",
   "metadata": {},
   "source": [
    "Библиотечные реализации бустинга ожидаемо выигрывают по скорости и качеству перед нашей кустарной реализацией, так как кроме более продвинутого алгоритма они содержат множество различных эвристик, позволяющих значительно сократить время обучения модели"
   ]
  }
 ],
 "metadata": {
  "kernelspec": {
   "display_name": "Python 3",
   "language": "python",
   "name": "python3"
  },
  "language_info": {
   "codemirror_mode": {
    "name": "ipython",
    "version": 3
   },
   "file_extension": ".py",
   "mimetype": "text/x-python",
   "name": "python",
   "nbconvert_exporter": "python",
   "pygments_lexer": "ipython3",
   "version": "3.7.4"
  }
 },
 "nbformat": 4,
 "nbformat_minor": 4
}
