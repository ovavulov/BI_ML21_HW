{
 "cells": [
  {
   "cell_type": "markdown",
   "metadata": {},
   "source": [
    "## Загрузка библиотек"
   ]
  },
  {
   "cell_type": "code",
   "execution_count": 1,
   "metadata": {},
   "outputs": [],
   "source": [
    "import numpy as np\n",
    "import pandas as pd\n",
    "from matplotlib import pyplot as plt\n",
    "import seaborn as sns\n",
    "from itertools import product\n",
    "from datetime import datetime\n",
    "import warnings\n",
    "warnings.filterwarnings(\"ignore\")"
   ]
  },
  {
   "cell_type": "markdown",
   "metadata": {},
   "source": [
    "## Загрузка данных"
   ]
  },
  {
   "cell_type": "markdown",
   "metadata": {},
   "source": [
    "### Задание 1 (0.5 балла)\n",
    "\n",
    "Для начала работы нам необходимо научиться читать набор данных. В данном домашнем задании мы поработаем с двумя наборами данных.\n",
    "\n",
    "__covid.csv__ ([источник](https://www.kaggle.com/gpreda/covid-world-vaccination-progress)) - статистика по вакцинированию от COVID19 по разным странам. Для данного датасета нет конкретной предсказательной переменной.\n",
    "\n",
    "__hr.csv__ ([источник](https://www.kaggle.com/arashnic/hr-analytics-job-change-of-data-scientists)) - набор данных большего размера. Он содержит статистику по людям, проходящим курсы по Big Data & ML. _Target_ - 1 или 0, сменил ли человек работу после прохождения курсов - или нет.\n",
    "\n",
    "Реализуйте методы `read_covid_dataset` и `read_hr_dataset`. Каждый из них принимает на вход путь к набору данных и возвращает выборку `X` и соответствующие метки `y`. В случае _covid_ датасета `y` возвращается как `None`. "
   ]
  },
  {
   "cell_type": "code",
   "execution_count": 2,
   "metadata": {},
   "outputs": [],
   "source": [
    "def read_covid_dataset(path_to_csv):\n",
    "    # Возвращает пару из X и y. X - массив векторов. y - соответствующие векторам метки\n",
    "    X = pd.read_csv(path_to_csv)\n",
    "    y = None\n",
    "    return X, y\n",
    "\n",
    "\n",
    "def read_hr_dataset(path_to_csv):\n",
    "    # Возвращает пару из X и y. X - массив векторов. y - соответствующие векторам метки\n",
    "    data = pd.read_csv(path_to_csv)\n",
    "    return data.drop(\"target\", axis=1), data.target"
   ]
  },
  {
   "cell_type": "code",
   "execution_count": 3,
   "metadata": {},
   "outputs": [],
   "source": [
    "COVID_DATA_PATH = \"./hw1_data/covid.csv\"\n",
    "HR_DATA_PATH = \"./hw1_data/hr.csv\""
   ]
  },
  {
   "cell_type": "code",
   "execution_count": 4,
   "metadata": {},
   "outputs": [],
   "source": [
    "X_covid, _ = read_covid_dataset(COVID_DATA_PATH)\n",
    "X_hr, y_hr = read_hr_dataset(HR_DATA_PATH)"
   ]
  },
  {
   "cell_type": "markdown",
   "metadata": {},
   "source": [
    "## EDA"
   ]
  },
  {
   "cell_type": "markdown",
   "metadata": {},
   "source": [
    "### Задание 2 (3.5 балла)\n",
    "\n",
    "Выполните задание для датасетa _hr_.\n",
    "\n",
    "Для дальнейшей работы с данными нужно обработать пропущенные значения в датасете.\n",
    "Существуют различные стратегии обработки пропущенных данных."
   ]
  },
  {
   "cell_type": "markdown",
   "metadata": {},
   "source": [
    "#### 1.  (0.5 балла)\n",
    "\n",
    "Для числовых признаков постройте распределения признаков. Для категориальных признаков выведите статистику по количеству значений признака."
   ]
  },
  {
   "cell_type": "markdown",
   "metadata": {},
   "source": [
    "Взглянем на признаки"
   ]
  },
  {
   "cell_type": "code",
   "execution_count": 5,
   "metadata": {},
   "outputs": [
    {
     "data": {
      "text/html": [
       "<div>\n",
       "<style scoped>\n",
       "    .dataframe tbody tr th:only-of-type {\n",
       "        vertical-align: middle;\n",
       "    }\n",
       "\n",
       "    .dataframe tbody tr th {\n",
       "        vertical-align: top;\n",
       "    }\n",
       "\n",
       "    .dataframe thead th {\n",
       "        text-align: right;\n",
       "    }\n",
       "</style>\n",
       "<table border=\"1\" class=\"dataframe\">\n",
       "  <thead>\n",
       "    <tr style=\"text-align: right;\">\n",
       "      <th></th>\n",
       "      <th>0</th>\n",
       "      <th>1</th>\n",
       "      <th>2</th>\n",
       "      <th>3</th>\n",
       "      <th>4</th>\n",
       "    </tr>\n",
       "  </thead>\n",
       "  <tbody>\n",
       "    <tr>\n",
       "      <td>enrollee_id</td>\n",
       "      <td>8949</td>\n",
       "      <td>29725</td>\n",
       "      <td>11561</td>\n",
       "      <td>33241</td>\n",
       "      <td>666</td>\n",
       "    </tr>\n",
       "    <tr>\n",
       "      <td>city</td>\n",
       "      <td>city_103</td>\n",
       "      <td>city_40</td>\n",
       "      <td>city_21</td>\n",
       "      <td>city_115</td>\n",
       "      <td>city_162</td>\n",
       "    </tr>\n",
       "    <tr>\n",
       "      <td>city_development_index</td>\n",
       "      <td>0.92</td>\n",
       "      <td>0.776</td>\n",
       "      <td>0.624</td>\n",
       "      <td>0.789</td>\n",
       "      <td>0.767</td>\n",
       "    </tr>\n",
       "    <tr>\n",
       "      <td>gender</td>\n",
       "      <td>Male</td>\n",
       "      <td>Male</td>\n",
       "      <td>NaN</td>\n",
       "      <td>NaN</td>\n",
       "      <td>Male</td>\n",
       "    </tr>\n",
       "    <tr>\n",
       "      <td>relevent_experience</td>\n",
       "      <td>Has relevent experience</td>\n",
       "      <td>No relevent experience</td>\n",
       "      <td>No relevent experience</td>\n",
       "      <td>No relevent experience</td>\n",
       "      <td>Has relevent experience</td>\n",
       "    </tr>\n",
       "    <tr>\n",
       "      <td>enrolled_university</td>\n",
       "      <td>no_enrollment</td>\n",
       "      <td>no_enrollment</td>\n",
       "      <td>Full time course</td>\n",
       "      <td>NaN</td>\n",
       "      <td>no_enrollment</td>\n",
       "    </tr>\n",
       "    <tr>\n",
       "      <td>education_level</td>\n",
       "      <td>Graduate</td>\n",
       "      <td>Graduate</td>\n",
       "      <td>Graduate</td>\n",
       "      <td>Graduate</td>\n",
       "      <td>Masters</td>\n",
       "    </tr>\n",
       "    <tr>\n",
       "      <td>major_discipline</td>\n",
       "      <td>STEM</td>\n",
       "      <td>STEM</td>\n",
       "      <td>STEM</td>\n",
       "      <td>Business Degree</td>\n",
       "      <td>STEM</td>\n",
       "    </tr>\n",
       "    <tr>\n",
       "      <td>experience</td>\n",
       "      <td>&gt;20</td>\n",
       "      <td>15</td>\n",
       "      <td>5</td>\n",
       "      <td>&lt;1</td>\n",
       "      <td>&gt;20</td>\n",
       "    </tr>\n",
       "    <tr>\n",
       "      <td>company_size</td>\n",
       "      <td>NaN</td>\n",
       "      <td>50-99</td>\n",
       "      <td>NaN</td>\n",
       "      <td>NaN</td>\n",
       "      <td>50-99</td>\n",
       "    </tr>\n",
       "    <tr>\n",
       "      <td>company_type</td>\n",
       "      <td>NaN</td>\n",
       "      <td>Pvt Ltd</td>\n",
       "      <td>NaN</td>\n",
       "      <td>Pvt Ltd</td>\n",
       "      <td>Funded Startup</td>\n",
       "    </tr>\n",
       "    <tr>\n",
       "      <td>last_new_job</td>\n",
       "      <td>1</td>\n",
       "      <td>&gt;4</td>\n",
       "      <td>never</td>\n",
       "      <td>never</td>\n",
       "      <td>4</td>\n",
       "    </tr>\n",
       "    <tr>\n",
       "      <td>training_hours</td>\n",
       "      <td>36</td>\n",
       "      <td>47</td>\n",
       "      <td>83</td>\n",
       "      <td>52</td>\n",
       "      <td>8</td>\n",
       "    </tr>\n",
       "  </tbody>\n",
       "</table>\n",
       "</div>"
      ],
      "text/plain": [
       "                                              0                       1  \\\n",
       "enrollee_id                                8949                   29725   \n",
       "city                                   city_103                 city_40   \n",
       "city_development_index                     0.92                   0.776   \n",
       "gender                                     Male                    Male   \n",
       "relevent_experience     Has relevent experience  No relevent experience   \n",
       "enrolled_university               no_enrollment           no_enrollment   \n",
       "education_level                        Graduate                Graduate   \n",
       "major_discipline                           STEM                    STEM   \n",
       "experience                                  >20                      15   \n",
       "company_size                                NaN                   50-99   \n",
       "company_type                                NaN                 Pvt Ltd   \n",
       "last_new_job                                  1                      >4   \n",
       "training_hours                               36                      47   \n",
       "\n",
       "                                             2                       3  \\\n",
       "enrollee_id                              11561                   33241   \n",
       "city                                   city_21                city_115   \n",
       "city_development_index                   0.624                   0.789   \n",
       "gender                                     NaN                     NaN   \n",
       "relevent_experience     No relevent experience  No relevent experience   \n",
       "enrolled_university           Full time course                     NaN   \n",
       "education_level                       Graduate                Graduate   \n",
       "major_discipline                          STEM         Business Degree   \n",
       "experience                                   5                      <1   \n",
       "company_size                               NaN                     NaN   \n",
       "company_type                               NaN                 Pvt Ltd   \n",
       "last_new_job                             never                   never   \n",
       "training_hours                              83                      52   \n",
       "\n",
       "                                              4  \n",
       "enrollee_id                                 666  \n",
       "city                                   city_162  \n",
       "city_development_index                    0.767  \n",
       "gender                                     Male  \n",
       "relevent_experience     Has relevent experience  \n",
       "enrolled_university               no_enrollment  \n",
       "education_level                         Masters  \n",
       "major_discipline                           STEM  \n",
       "experience                                  >20  \n",
       "company_size                              50-99  \n",
       "company_type                     Funded Startup  \n",
       "last_new_job                                  4  \n",
       "training_hours                                8  "
      ]
     },
     "execution_count": 5,
     "metadata": {},
     "output_type": "execute_result"
    }
   ],
   "source": [
    "X_hr.head().T"
   ]
  },
  {
   "cell_type": "code",
   "execution_count": 6,
   "metadata": {},
   "outputs": [
    {
     "name": "stdout",
     "output_type": "stream",
     "text": [
      "<class 'pandas.core.frame.DataFrame'>\n",
      "RangeIndex: 19158 entries, 0 to 19157\n",
      "Data columns (total 13 columns):\n",
      "enrollee_id               19158 non-null int64\n",
      "city                      19158 non-null object\n",
      "city_development_index    19158 non-null float64\n",
      "gender                    14650 non-null object\n",
      "relevent_experience       19158 non-null object\n",
      "enrolled_university       18772 non-null object\n",
      "education_level           18698 non-null object\n",
      "major_discipline          16345 non-null object\n",
      "experience                19093 non-null object\n",
      "company_size              13220 non-null object\n",
      "company_type              13018 non-null object\n",
      "last_new_job              18735 non-null object\n",
      "training_hours            19158 non-null int64\n",
      "dtypes: float64(1), int64(2), object(10)\n",
      "memory usage: 1.9+ MB\n"
     ]
    }
   ],
   "source": [
    "X_hr.info()"
   ]
  },
  {
   "cell_type": "markdown",
   "metadata": {},
   "source": [
    "Признак __enrollee_id__ - это просто идентификатор, не имеющий предсказательной силы, распределен равномерно на множестве значений"
   ]
  },
  {
   "cell_type": "code",
   "execution_count": 7,
   "metadata": {},
   "outputs": [
    {
     "data": {
      "image/png": "[encoded data removed]",
      "text/plain": [
       "<Figure size 432x288 with 1 Axes>"
      ]
     },
     "metadata": {
      "needs_background": "light"
     },
     "output_type": "display_data"
    }
   ],
   "source": [
    "id_feature = \"enrollee_id\"\n",
    "X_hr.enrollee_id.hist();"
   ]
  },
  {
   "cell_type": "markdown",
   "metadata": {},
   "source": [
    "К собственно числовым признакам можно отнести только __city_development_index__ и __training_hours__"
   ]
  },
  {
   "cell_type": "code",
   "execution_count": 8,
   "metadata": {},
   "outputs": [],
   "source": [
    "def plot_num_distributions(X, features):\n",
    "    n = len(features)\n",
    "    nrows = int(np.ceil(n/2))\n",
    "    fig, ax = plt.subplots(nrows, 2, figsize=(14, 6*nrows))\n",
    "    fig.suptitle(\"Numeric features distributions\")\n",
    "    for i, j in product(range(nrows), range(2)):\n",
    "        try:\n",
    "            feature = features[2*i + j]\n",
    "        except IndexError:\n",
    "            break\n",
    "        if nrows == 1:\n",
    "            ax[j].set_title(feature)\n",
    "            X[feature].hist(ax=ax[j], bins=50)\n",
    "        else:\n",
    "            ax[i, j].set_title(feature)\n",
    "            X[feature].hist(ax=ax[i, j], bins=50)"
   ]
  },
  {
   "cell_type": "code",
   "execution_count": 9,
   "metadata": {
    "scrolled": false
   },
   "outputs": [
    {
     "data": {
      "image/png": "[encoded data removed]",
      "text/plain": [
       "<Figure size 1008x432 with 2 Axes>"
      ]
     },
     "metadata": {
      "needs_background": "light"
     },
     "output_type": "display_data"
    }
   ],
   "source": [
    "num_features = [\"city_development_index\", \"training_hours\"]\n",
    "plot_num_distributions(X_hr, num_features)"
   ]
  },
  {
   "cell_type": "markdown",
   "metadata": {},
   "source": [
    "Все остальные признаки являются категориальными. Выведем статистику по ним"
   ]
  },
  {
   "cell_type": "code",
   "execution_count": 10,
   "metadata": {
    "scrolled": false
   },
   "outputs": [
    {
     "name": "stdout",
     "output_type": "stream",
     "text": [
      "Statistics for feature\t'city'\n",
      "\n",
      "\n",
      "city_103    4355\n",
      "city_21     2702\n",
      "city_16     1533\n",
      "city_114    1336\n",
      "city_160     845\n",
      "            ... \n",
      "city_129       3\n",
      "city_121       3\n",
      "city_111       3\n",
      "city_140       1\n",
      "city_171       1\n",
      "Name: city, Length: 123, dtype: int64\n",
      "\n",
      "\n",
      "Statistics for feature\t'gender'\n",
      "\n",
      "\n",
      "Male      13221\n",
      "NaN        4508\n",
      "Female     1238\n",
      "Other       191\n",
      "Name: gender, dtype: int64\n",
      "\n",
      "\n",
      "Statistics for feature\t'relevent_experience'\n",
      "\n",
      "\n",
      "Has relevent experience    13792\n",
      "No relevent experience      5366\n",
      "Name: relevent_experience, dtype: int64\n",
      "\n",
      "\n",
      "Statistics for feature\t'enrolled_university'\n",
      "\n",
      "\n",
      "no_enrollment       13817\n",
      "Full time course     3757\n",
      "Part time course     1198\n",
      "NaN                   386\n",
      "Name: enrolled_university, dtype: int64\n",
      "\n",
      "\n",
      "Statistics for feature\t'education_level'\n",
      "\n",
      "\n",
      "Graduate          11598\n",
      "Masters            4361\n",
      "High School        2017\n",
      "NaN                 460\n",
      "Phd                 414\n",
      "Primary School      308\n",
      "Name: education_level, dtype: int64\n",
      "\n",
      "\n",
      "Statistics for feature\t'major_discipline'\n",
      "\n",
      "\n",
      "STEM               14492\n",
      "NaN                 2813\n",
      "Humanities           669\n",
      "Other                381\n",
      "Business Degree      327\n",
      "Arts                 253\n",
      "No Major             223\n",
      "Name: major_discipline, dtype: int64\n",
      "\n",
      "\n",
      "Statistics for feature\t'experience'\n",
      "\n",
      "\n",
      ">20    3286\n",
      "5      1430\n",
      "4      1403\n",
      "3      1354\n",
      "6      1216\n",
      "2      1127\n",
      "7      1028\n",
      "10      985\n",
      "9       980\n",
      "8       802\n",
      "15      686\n",
      "11      664\n",
      "14      586\n",
      "1       549\n",
      "<1      522\n",
      "16      508\n",
      "12      494\n",
      "13      399\n",
      "17      342\n",
      "19      304\n",
      "18      280\n",
      "20      148\n",
      "NaN      65\n",
      "Name: experience, dtype: int64\n",
      "\n",
      "\n",
      "Statistics for feature\t'company_size'\n",
      "\n",
      "\n",
      "NaN          5938\n",
      "50-99        3083\n",
      "100-500      2571\n",
      "10000+       2019\n",
      "10/49        1471\n",
      "1000-4999    1328\n",
      "<10          1308\n",
      "500-999       877\n",
      "5000-9999     563\n",
      "Name: company_size, dtype: int64\n",
      "\n",
      "\n",
      "Statistics for feature\t'company_type'\n",
      "\n",
      "\n",
      "Pvt Ltd                9817\n",
      "NaN                    6140\n",
      "Funded Startup         1001\n",
      "Public Sector           955\n",
      "Early Stage Startup     603\n",
      "NGO                     521\n",
      "Other                   121\n",
      "Name: company_type, dtype: int64\n",
      "\n",
      "\n",
      "Statistics for feature\t'last_new_job'\n",
      "\n",
      "\n",
      "1        8040\n",
      ">4       3290\n",
      "2        2900\n",
      "never    2452\n",
      "4        1029\n",
      "3        1024\n",
      "NaN       423\n",
      "Name: last_new_job, dtype: int64\n",
      "\n",
      "\n"
     ]
    }
   ],
   "source": [
    "cat_features = list(X_hr.drop(num_features + [\"enrollee_id\"], axis=1).columns)\n",
    "def print_cat_features_stat(X, norm=False):\n",
    "    for cat_feature in cat_features:\n",
    "        print(f\"Statistics for feature\\t'{cat_feature}'\\n\\n\")\n",
    "        if norm:\n",
    "            print(f\"{X[cat_feature].value_counts(dropna=False)/len(X)}\\n\\n\")\n",
    "        else:\n",
    "            print(f\"{X[cat_feature].value_counts(dropna=False)}\\n\\n\")\n",
    "print_cat_features_stat(X_hr)"
   ]
  },
  {
   "cell_type": "markdown",
   "metadata": {},
   "source": [
    "#### 2.  (0.5 балла)\n",
    "Удалите все строки, где есть хотя бы одно пропущенное значение признака. Насколько сильно уменьшился размер датасета? Как изменились распределения признаков/статистика по количеству значений признаков?"
   ]
  },
  {
   "cell_type": "code",
   "execution_count": 11,
   "metadata": {},
   "outputs": [
    {
     "name": "stdout",
     "output_type": "stream",
     "text": [
      "Исходный размер датасета hr:\t19158\n"
     ]
    }
   ],
   "source": [
    "print(f'Исходный размер датасета hr:\\t{len(X_hr)}')"
   ]
  },
  {
   "cell_type": "code",
   "execution_count": 12,
   "metadata": {},
   "outputs": [],
   "source": [
    "X_hr_dropna = X_hr.dropna()"
   ]
  },
  {
   "cell_type": "code",
   "execution_count": 13,
   "metadata": {},
   "outputs": [
    {
     "name": "stdout",
     "output_type": "stream",
     "text": [
      "Pазмер датасета covid без NaN:\t8955\n"
     ]
    }
   ],
   "source": [
    "print(f'Pазмер датасета covid без NaN:\\t{len(X_hr_dropna)}')"
   ]
  },
  {
   "cell_type": "markdown",
   "metadata": {},
   "source": [
    "_Ваш ответ_ : 10203"
   ]
  },
  {
   "cell_type": "markdown",
   "metadata": {},
   "source": [
    "Давайте попробуем избежать сокращения размера датасета."
   ]
  },
  {
   "cell_type": "markdown",
   "metadata": {},
   "source": [
    "#### 3.  (1 балл)\n",
    "Для числовых признаков заполните пропущенные данные средним/медианой/модой данного признака. Объясните свой выбор. (Часть строк с NaN значениями можно удалить, если размер датасета уменьшится <15%)"
   ]
  },
  {
   "cell_type": "markdown",
   "metadata": {},
   "source": [
    "Как видно из статистики датасета, по признакам __city_development_index__ и __training_hours__ нет пропущенных значений"
   ]
  },
  {
   "cell_type": "code",
   "execution_count": 14,
   "metadata": {},
   "outputs": [
    {
     "name": "stdout",
     "output_type": "stream",
     "text": [
      "<class 'pandas.core.frame.DataFrame'>\n",
      "RangeIndex: 19158 entries, 0 to 19157\n",
      "Data columns (total 13 columns):\n",
      "enrollee_id               19158 non-null int64\n",
      "city                      19158 non-null object\n",
      "city_development_index    19158 non-null float64\n",
      "gender                    14650 non-null object\n",
      "relevent_experience       19158 non-null object\n",
      "enrolled_university       18772 non-null object\n",
      "education_level           18698 non-null object\n",
      "major_discipline          16345 non-null object\n",
      "experience                19093 non-null object\n",
      "company_size              13220 non-null object\n",
      "company_type              13018 non-null object\n",
      "last_new_job              18735 non-null object\n",
      "training_hours            19158 non-null int64\n",
      "dtypes: float64(1), int64(2), object(10)\n",
      "memory usage: 1.9+ MB\n"
     ]
    }
   ],
   "source": [
    "X_hr.info()"
   ]
  },
  {
   "cell_type": "code",
   "execution_count": 15,
   "metadata": {},
   "outputs": [
    {
     "data": {
      "text/plain": [
       "1.0"
      ]
     },
     "execution_count": 15,
     "metadata": {},
     "output_type": "execute_result"
    }
   ],
   "source": [
    "len(X_hr.city_development_index.dropna())/len(X_hr)"
   ]
  },
  {
   "cell_type": "code",
   "execution_count": 16,
   "metadata": {},
   "outputs": [
    {
     "data": {
      "text/plain": [
       "1.0"
      ]
     },
     "execution_count": 16,
     "metadata": {},
     "output_type": "execute_result"
    }
   ],
   "source": [
    "len(X_hr.training_hours.dropna())/len(X_hr)"
   ]
  },
  {
   "cell_type": "markdown",
   "metadata": {},
   "source": [
    "#### 4.  (1 балл)\n",
    "Для категориальных признаков заполните пропущенные значения самой встречающейся категорией или создайте отдельную категорию пропущенных значений. Объясните свой выбор. (Часть строк с NaN значениями можно удалить, если размер датасета уменьшится <15%)"
   ]
  },
  {
   "cell_type": "markdown",
   "metadata": {},
   "source": [
    "Так как в численных признаках нет пропусков, работаем только с категориальными. Введеем два параметра: soft_nr - доля пропущенных значений выше этого порога считается слишком большой, чтобы просто заполнять их модой, так как это потенциально вносит большое смещение в исходные данные, в этом случае резервируем отдельную категорию под пропуски. Удалять примеры будем, если доля меньше достаточно малой величины hard_nr, и такую потерю данных можно считать не существенной. В оставшихся случаях заполняем пропуски модой."
   ]
  },
  {
   "cell_type": "code",
   "execution_count": 17,
   "metadata": {
    "scrolled": false
   },
   "outputs": [
    {
     "name": "stdout",
     "output_type": "stream",
     "text": [
      "Statistics for feature\t'city'\n",
      "\n",
      "\n",
      "city_103    0.227320\n",
      "city_21     0.141038\n",
      "city_16     0.080019\n",
      "city_114    0.069736\n",
      "city_160    0.044107\n",
      "              ...   \n",
      "city_129    0.000157\n",
      "city_121    0.000157\n",
      "city_111    0.000157\n",
      "city_140    0.000052\n",
      "city_171    0.000052\n",
      "Name: city, Length: 123, dtype: float64\n",
      "\n",
      "\n",
      "Statistics for feature\t'gender'\n",
      "\n",
      "\n",
      "Male      0.690103\n",
      "NaN       0.235306\n",
      "Female    0.064621\n",
      "Other     0.009970\n",
      "Name: gender, dtype: float64\n",
      "\n",
      "\n",
      "Statistics for feature\t'relevent_experience'\n",
      "\n",
      "\n",
      "Has relevent experience    0.719908\n",
      "No relevent experience     0.280092\n",
      "Name: relevent_experience, dtype: float64\n",
      "\n",
      "\n",
      "Statistics for feature\t'enrolled_university'\n",
      "\n",
      "\n",
      "no_enrollment       0.721213\n",
      "Full time course    0.196106\n",
      "Part time course    0.062533\n",
      "NaN                 0.020148\n",
      "Name: enrolled_university, dtype: float64\n",
      "\n",
      "\n",
      "Statistics for feature\t'education_level'\n",
      "\n",
      "\n",
      "Graduate          0.605387\n",
      "Masters           0.227633\n",
      "High School       0.105282\n",
      "NaN               0.024011\n",
      "Phd               0.021610\n",
      "Primary School    0.016077\n",
      "Name: education_level, dtype: float64\n",
      "\n",
      "\n",
      "Statistics for feature\t'major_discipline'\n",
      "\n",
      "\n",
      "STEM               0.756446\n",
      "NaN                0.146832\n",
      "Humanities         0.034920\n",
      "Other              0.019887\n",
      "Business Degree    0.017069\n",
      "Arts               0.013206\n",
      "No Major           0.011640\n",
      "Name: major_discipline, dtype: float64\n",
      "\n",
      "\n",
      "Statistics for feature\t'experience'\n",
      "\n",
      "\n",
      ">20    0.171521\n",
      "5      0.074642\n",
      "4      0.073233\n",
      "3      0.070675\n",
      "6      0.063472\n",
      "2      0.058827\n",
      "7      0.053659\n",
      "10     0.051415\n",
      "9      0.051154\n",
      "8      0.041862\n",
      "15     0.035807\n",
      "11     0.034659\n",
      "14     0.030588\n",
      "1      0.028656\n",
      "<1     0.027247\n",
      "16     0.026516\n",
      "12     0.025786\n",
      "13     0.020827\n",
      "17     0.017852\n",
      "19     0.015868\n",
      "18     0.014615\n",
      "20     0.007725\n",
      "NaN    0.003393\n",
      "Name: experience, dtype: float64\n",
      "\n",
      "\n",
      "Statistics for feature\t'company_size'\n",
      "\n",
      "\n",
      "NaN          0.309949\n",
      "50-99        0.160925\n",
      "100-500      0.134200\n",
      "10000+       0.105387\n",
      "10/49        0.076783\n",
      "1000-4999    0.069318\n",
      "<10          0.068274\n",
      "500-999      0.045777\n",
      "5000-9999    0.029387\n",
      "Name: company_size, dtype: float64\n",
      "\n",
      "\n",
      "Statistics for feature\t'company_type'\n",
      "\n",
      "\n",
      "Pvt Ltd                0.512423\n",
      "NaN                    0.320493\n",
      "Funded Startup         0.052250\n",
      "Public Sector          0.049849\n",
      "Early Stage Startup    0.031475\n",
      "NGO                    0.027195\n",
      "Other                  0.006316\n",
      "Name: company_type, dtype: float64\n",
      "\n",
      "\n",
      "Statistics for feature\t'last_new_job'\n",
      "\n",
      "\n",
      "1        0.419668\n",
      ">4       0.171730\n",
      "2        0.151373\n",
      "never    0.127988\n",
      "4        0.053711\n",
      "3        0.053450\n",
      "NaN      0.022080\n",
      "Name: last_new_job, dtype: float64\n",
      "\n",
      "\n"
     ]
    }
   ],
   "source": [
    "print_cat_features_stat(X_hr, norm=True)"
   ]
  },
  {
   "cell_type": "code",
   "execution_count": 18,
   "metadata": {},
   "outputs": [],
   "source": [
    "def fill_na(X, y, soft_nr, hard_nr):\n",
    "    # Возвращает данные без NaN значений\n",
    "    assert 0 < hard_nr < soft_nr < 1\n",
    "    data = pd.DataFrame(data=X)\n",
    "    data[\"target\"] = y\n",
    "    for cat_feature in cat_features:\n",
    "        cat_values_stat = data[cat_feature].value_counts(dropna=False)/len(data)\n",
    "        if np.nan not in cat_values_stat.index:\n",
    "            continue\n",
    "        nan_rate = cat_values_stat.loc[np.nan]\n",
    "        if nan_rate < hard_nr:\n",
    "            data.dropna(subset=[cat_feature], inplace=True)\n",
    "        elif nan_rate < soft_nr:\n",
    "            mode = cat_values_stat.sort_values(ascending=False).index[0]\n",
    "            data[cat_feature] = data[cat_feature].apply(\n",
    "                lambda x: x if x is not np.nan else mode\n",
    "            )\n",
    "        else:\n",
    "            data[cat_feature] = data[cat_feature].apply(\n",
    "                lambda x: x if x is not np.nan else str(x)\n",
    "            )\n",
    "    print(f\"Data shrinkage: {100*(1 - len(data)/len(X)):.1f}%\")\n",
    "    return data.drop(\"target\", axis=1), data[\"target\"]"
   ]
  },
  {
   "cell_type": "code",
   "execution_count": 19,
   "metadata": {},
   "outputs": [
    {
     "name": "stdout",
     "output_type": "stream",
     "text": [
      "Data shrinkage: 6.0%\n"
     ]
    }
   ],
   "source": [
    "X_hr_fill, y_hr_fill = fill_na(X_hr, y_hr, soft_nr=0.1, hard_nr=0.05)"
   ]
  },
  {
   "cell_type": "code",
   "execution_count": 20,
   "metadata": {},
   "outputs": [
    {
     "name": "stdout",
     "output_type": "stream",
     "text": [
      "<class 'pandas.core.frame.DataFrame'>\n",
      "Int64Index: 18014 entries, 0 to 19157\n",
      "Data columns (total 13 columns):\n",
      "enrollee_id               18014 non-null int64\n",
      "city                      18014 non-null object\n",
      "city_development_index    18014 non-null float64\n",
      "gender                    18014 non-null object\n",
      "relevent_experience       18014 non-null object\n",
      "enrolled_university       18014 non-null object\n",
      "education_level           18014 non-null object\n",
      "major_discipline          18014 non-null object\n",
      "experience                18014 non-null object\n",
      "company_size              18014 non-null object\n",
      "company_type              18014 non-null object\n",
      "last_new_job              18014 non-null object\n",
      "training_hours            18014 non-null int64\n",
      "dtypes: float64(1), int64(2), object(10)\n",
      "memory usage: 1.9+ MB\n"
     ]
    }
   ],
   "source": [
    "X_hr_fill.info()"
   ]
  },
  {
   "cell_type": "markdown",
   "metadata": {},
   "source": [
    "#### 5.  (0.5 балла)\n",
    "Как изменились распределения признаков/статистика по количеству значений признаков после заполнения пропущенных данных?"
   ]
  },
  {
   "cell_type": "code",
   "execution_count": 21,
   "metadata": {
    "scrolled": false
   },
   "outputs": [
    {
     "name": "stdout",
     "output_type": "stream",
     "text": [
      "Statistics for feature\t'city'\n",
      "\n",
      "\n",
      "city_103    0.232819\n",
      "city_21     0.136227\n",
      "city_16     0.081659\n",
      "city_114    0.069613\n",
      "city_160    0.045354\n",
      "              ...   \n",
      "city_79     0.000167\n",
      "city_129    0.000111\n",
      "city_8      0.000111\n",
      "city_140    0.000056\n",
      "city_171    0.000056\n",
      "Name: city, Length: 123, dtype: float64\n",
      "\n",
      "\n",
      "Statistics for feature\t'gender'\n",
      "\n",
      "\n",
      "Male      0.709004\n",
      "nan       0.214444\n",
      "Female    0.066948\n",
      "Other     0.009604\n",
      "Name: gender, dtype: float64\n",
      "\n",
      "\n",
      "Statistics for feature\t'relevent_experience'\n",
      "\n",
      "\n",
      "Has relevent experience    0.732208\n",
      "No relevent experience     0.267792\n",
      "Name: relevent_experience, dtype: float64\n",
      "\n",
      "\n",
      "Statistics for feature\t'enrolled_university'\n",
      "\n",
      "\n",
      "no_enrollment       0.740979\n",
      "Full time course    0.195237\n",
      "Part time course    0.063784\n",
      "Name: enrolled_university, dtype: float64\n",
      "\n",
      "\n",
      "Statistics for feature\t'education_level'\n",
      "\n",
      "\n",
      "Graduate          0.621072\n",
      "Masters           0.234706\n",
      "High School       0.105918\n",
      "Phd               0.022149\n",
      "Primary School    0.016154\n",
      "Name: education_level, dtype: float64\n",
      "\n",
      "\n",
      "Statistics for feature\t'major_discipline'\n",
      "\n",
      "\n",
      "STEM               0.776785\n",
      "nan                0.123349\n",
      "Humanities         0.036250\n",
      "Other              0.020207\n",
      "Business Degree    0.017875\n",
      "Arts               0.013767\n",
      "No Major           0.011769\n",
      "Name: major_discipline, dtype: float64\n",
      "\n",
      "\n",
      "Statistics for feature\t'experience'\n",
      "\n",
      "\n",
      ">20    0.176640\n",
      "5      0.074220\n",
      "4      0.072055\n",
      "3      0.067892\n",
      "6      0.063451\n",
      "2      0.055346\n",
      "7      0.054513\n",
      "10     0.052515\n",
      "9      0.051960\n",
      "8      0.042634\n",
      "15     0.037082\n",
      "11     0.036028\n",
      "14     0.031587\n",
      "16     0.027090\n",
      "1      0.026368\n",
      "12     0.026368\n",
      "<1     0.025036\n",
      "13     0.021483\n",
      "17     0.018375\n",
      "19     0.016321\n",
      "18     0.015155\n",
      "20     0.007883\n",
      "Name: experience, dtype: float64\n",
      "\n",
      "\n",
      "Statistics for feature\t'company_size'\n",
      "\n",
      "\n",
      "nan          0.294771\n",
      "50-99        0.163762\n",
      "100-500      0.137837\n",
      "10000+       0.109026\n",
      "10/49        0.077384\n",
      "1000-4999    0.071167\n",
      "<10          0.068946\n",
      "500-999      0.047019\n",
      "5000-9999    0.030088\n",
      "Name: company_size, dtype: float64\n",
      "\n",
      "\n",
      "Statistics for feature\t'company_type'\n",
      "\n",
      "\n",
      "Pvt Ltd                0.525980\n",
      "nan                    0.303986\n",
      "Funded Startup         0.054125\n",
      "Public Sector          0.050627\n",
      "Early Stage Startup    0.031198\n",
      "NGO                    0.027756\n",
      "Other                  0.006328\n",
      "Name: company_type, dtype: float64\n",
      "\n",
      "\n",
      "Statistics for feature\t'last_new_job'\n",
      "\n",
      "\n",
      "1        0.432386\n",
      ">4       0.178195\n",
      "2        0.156933\n",
      "never    0.121406\n",
      "4        0.056068\n",
      "3        0.055013\n",
      "Name: last_new_job, dtype: float64\n",
      "\n",
      "\n"
     ]
    }
   ],
   "source": [
    "print_cat_features_stat(X_hr_fill, norm=True)"
   ]
  },
  {
   "cell_type": "markdown",
   "metadata": {},
   "source": [
    "Распределения существенно не измененились"
   ]
  },
  {
   "cell_type": "markdown",
   "metadata": {},
   "source": [
    "### Задание 3 (1 балл)\n",
    "\n",
    "Выполните задание для датасета _covid_.\n",
    "\n",
    "1. Найдите страну, для которой в датасете присутствует 46 дат со статистикой по вакцинации.\n",
    "2. Постройте для этой страны график зависимости _total_vaccinations_ от _date_.\n",
    "3. Заполните пропущенные данные о _total_vaccinations_ для этой страны. Объясните свой выбор."
   ]
  },
  {
   "cell_type": "code",
   "execution_count": 22,
   "metadata": {},
   "outputs": [
    {
     "data": {
      "text/plain": [
       "country\n",
       "Bahrain    46\n",
       "Name: date, dtype: int64"
      ]
     },
     "execution_count": 22,
     "metadata": {},
     "output_type": "execute_result"
    }
   ],
   "source": [
    "dates_df = X_covid.groupby(\"country\")[\"date\"].count()\n",
    "dates_df[dates_df == 46]"
   ]
  },
  {
   "cell_type": "code",
   "execution_count": 23,
   "metadata": {},
   "outputs": [
    {
     "name": "stdout",
     "output_type": "stream",
     "text": [
      "Country with 46 vaccination dates: Bahrain\n"
     ]
    }
   ],
   "source": [
    "country = dates_df[dates_df == 46].index[0]\n",
    "print(f\"Country with 46 vaccination dates: {country}\")"
   ]
  },
  {
   "cell_type": "code",
   "execution_count": 24,
   "metadata": {},
   "outputs": [
    {
     "data": {
      "image/png": "[encoded data removed]",
      "text/plain": [
       "<Figure size 1224x504 with 1 Axes>"
      ]
     },
     "metadata": {
      "needs_background": "light"
     },
     "output_type": "display_data"
    }
   ],
   "source": [
    "X_covid_bah = X_covid[X_covid[\"country\"] == country]\n",
    "plt.figure(figsize=(17, 7))\n",
    "plt.title(\"Total vaccinations per date for Bahrain\", fontsize=20)\n",
    "sns.barplot(data=X_covid_bah, x=\"date\", y=\"total_vaccinations\")\n",
    "plt.xticks(rotation=45);"
   ]
  },
  {
   "cell_type": "code",
   "execution_count": 25,
   "metadata": {},
   "outputs": [
    {
     "data": {
      "text/html": [
       "<div>\n",
       "<style scoped>\n",
       "    .dataframe tbody tr th:only-of-type {\n",
       "        vertical-align: middle;\n",
       "    }\n",
       "\n",
       "    .dataframe tbody tr th {\n",
       "        vertical-align: top;\n",
       "    }\n",
       "\n",
       "    .dataframe thead th {\n",
       "        text-align: right;\n",
       "    }\n",
       "</style>\n",
       "<table border=\"1\" class=\"dataframe\">\n",
       "  <thead>\n",
       "    <tr style=\"text-align: right;\">\n",
       "      <th></th>\n",
       "      <th>country</th>\n",
       "      <th>iso_code</th>\n",
       "      <th>date</th>\n",
       "      <th>total_vaccinations</th>\n",
       "      <th>people_vaccinated</th>\n",
       "      <th>people_fully_vaccinated</th>\n",
       "      <th>daily_vaccinations_raw</th>\n",
       "      <th>daily_vaccinations</th>\n",
       "      <th>total_vaccinations_per_hundred</th>\n",
       "      <th>people_vaccinated_per_hundred</th>\n",
       "      <th>people_fully_vaccinated_per_hundred</th>\n",
       "      <th>daily_vaccinations_per_million</th>\n",
       "      <th>vaccines</th>\n",
       "      <th>source_name</th>\n",
       "      <th>source_website</th>\n",
       "    </tr>\n",
       "  </thead>\n",
       "  <tbody>\n",
       "    <tr>\n",
       "      <td>106</td>\n",
       "      <td>Bahrain</td>\n",
       "      <td>BHR</td>\n",
       "      <td>2021-01-20</td>\n",
       "      <td>144130.0</td>\n",
       "      <td>144130.0</td>\n",
       "      <td>NaN</td>\n",
       "      <td>534.0</td>\n",
       "      <td>6110.0</td>\n",
       "      <td>8.47</td>\n",
       "      <td>8.47</td>\n",
       "      <td>NaN</td>\n",
       "      <td>3591.0</td>\n",
       "      <td>Pfizer/BioNTech, Sinopharm</td>\n",
       "      <td>Ministry of Health</td>\n",
       "      <td>https://twitter.com/MOH_Bahrain/status/1358158...</td>\n",
       "    </tr>\n",
       "    <tr>\n",
       "      <td>107</td>\n",
       "      <td>Bahrain</td>\n",
       "      <td>BHR</td>\n",
       "      <td>2021-01-21</td>\n",
       "      <td>NaN</td>\n",
       "      <td>NaN</td>\n",
       "      <td>NaN</td>\n",
       "      <td>NaN</td>\n",
       "      <td>5457.0</td>\n",
       "      <td>NaN</td>\n",
       "      <td>NaN</td>\n",
       "      <td>NaN</td>\n",
       "      <td>3207.0</td>\n",
       "      <td>Pfizer/BioNTech, Sinopharm</td>\n",
       "      <td>Ministry of Health</td>\n",
       "      <td>https://twitter.com/MOH_Bahrain/status/1358158...</td>\n",
       "    </tr>\n",
       "    <tr>\n",
       "      <td>108</td>\n",
       "      <td>Bahrain</td>\n",
       "      <td>BHR</td>\n",
       "      <td>2021-01-22</td>\n",
       "      <td>NaN</td>\n",
       "      <td>NaN</td>\n",
       "      <td>NaN</td>\n",
       "      <td>NaN</td>\n",
       "      <td>4084.0</td>\n",
       "      <td>NaN</td>\n",
       "      <td>NaN</td>\n",
       "      <td>NaN</td>\n",
       "      <td>2400.0</td>\n",
       "      <td>Pfizer/BioNTech, Sinopharm</td>\n",
       "      <td>Ministry of Health</td>\n",
       "      <td>https://twitter.com/MOH_Bahrain/status/1358158...</td>\n",
       "    </tr>\n",
       "    <tr>\n",
       "      <td>109</td>\n",
       "      <td>Bahrain</td>\n",
       "      <td>BHR</td>\n",
       "      <td>2021-01-23</td>\n",
       "      <td>NaN</td>\n",
       "      <td>NaN</td>\n",
       "      <td>NaN</td>\n",
       "      <td>NaN</td>\n",
       "      <td>2555.0</td>\n",
       "      <td>NaN</td>\n",
       "      <td>NaN</td>\n",
       "      <td>NaN</td>\n",
       "      <td>1502.0</td>\n",
       "      <td>Pfizer/BioNTech, Sinopharm</td>\n",
       "      <td>Ministry of Health</td>\n",
       "      <td>https://twitter.com/MOH_Bahrain/status/1358158...</td>\n",
       "    </tr>\n",
       "    <tr>\n",
       "      <td>110</td>\n",
       "      <td>Bahrain</td>\n",
       "      <td>BHR</td>\n",
       "      <td>2021-01-24</td>\n",
       "      <td>NaN</td>\n",
       "      <td>NaN</td>\n",
       "      <td>NaN</td>\n",
       "      <td>NaN</td>\n",
       "      <td>2445.0</td>\n",
       "      <td>NaN</td>\n",
       "      <td>NaN</td>\n",
       "      <td>NaN</td>\n",
       "      <td>1437.0</td>\n",
       "      <td>Pfizer/BioNTech, Sinopharm</td>\n",
       "      <td>Ministry of Health</td>\n",
       "      <td>https://twitter.com/MOH_Bahrain/status/1358158...</td>\n",
       "    </tr>\n",
       "    <tr>\n",
       "      <td>111</td>\n",
       "      <td>Bahrain</td>\n",
       "      <td>BHR</td>\n",
       "      <td>2021-01-25</td>\n",
       "      <td>NaN</td>\n",
       "      <td>NaN</td>\n",
       "      <td>NaN</td>\n",
       "      <td>NaN</td>\n",
       "      <td>2784.0</td>\n",
       "      <td>NaN</td>\n",
       "      <td>NaN</td>\n",
       "      <td>NaN</td>\n",
       "      <td>1636.0</td>\n",
       "      <td>Pfizer/BioNTech, Sinopharm</td>\n",
       "      <td>Ministry of Health</td>\n",
       "      <td>https://twitter.com/MOH_Bahrain/status/1358158...</td>\n",
       "    </tr>\n",
       "    <tr>\n",
       "      <td>112</td>\n",
       "      <td>Bahrain</td>\n",
       "      <td>BHR</td>\n",
       "      <td>2021-01-26</td>\n",
       "      <td>165953.0</td>\n",
       "      <td>165953.0</td>\n",
       "      <td>NaN</td>\n",
       "      <td>NaN</td>\n",
       "      <td>3194.0</td>\n",
       "      <td>9.75</td>\n",
       "      <td>9.75</td>\n",
       "      <td>NaN</td>\n",
       "      <td>1877.0</td>\n",
       "      <td>Pfizer/BioNTech, Sinopharm</td>\n",
       "      <td>Ministry of Health</td>\n",
       "      <td>https://twitter.com/MOH_Bahrain/status/1358158...</td>\n",
       "    </tr>\n",
       "  </tbody>\n",
       "</table>\n",
       "</div>"
      ],
      "text/plain": [
       "     country iso_code        date  total_vaccinations  people_vaccinated  \\\n",
       "106  Bahrain      BHR  2021-01-20            144130.0           144130.0   \n",
       "107  Bahrain      BHR  2021-01-21                 NaN                NaN   \n",
       "108  Bahrain      BHR  2021-01-22                 NaN                NaN   \n",
       "109  Bahrain      BHR  2021-01-23                 NaN                NaN   \n",
       "110  Bahrain      BHR  2021-01-24                 NaN                NaN   \n",
       "111  Bahrain      BHR  2021-01-25                 NaN                NaN   \n",
       "112  Bahrain      BHR  2021-01-26            165953.0           165953.0   \n",
       "\n",
       "     people_fully_vaccinated  daily_vaccinations_raw  daily_vaccinations  \\\n",
       "106                      NaN                   534.0              6110.0   \n",
       "107                      NaN                     NaN              5457.0   \n",
       "108                      NaN                     NaN              4084.0   \n",
       "109                      NaN                     NaN              2555.0   \n",
       "110                      NaN                     NaN              2445.0   \n",
       "111                      NaN                     NaN              2784.0   \n",
       "112                      NaN                     NaN              3194.0   \n",
       "\n",
       "     total_vaccinations_per_hundred  people_vaccinated_per_hundred  \\\n",
       "106                            8.47                           8.47   \n",
       "107                             NaN                            NaN   \n",
       "108                             NaN                            NaN   \n",
       "109                             NaN                            NaN   \n",
       "110                             NaN                            NaN   \n",
       "111                             NaN                            NaN   \n",
       "112                            9.75                           9.75   \n",
       "\n",
       "     people_fully_vaccinated_per_hundred  daily_vaccinations_per_million  \\\n",
       "106                                  NaN                          3591.0   \n",
       "107                                  NaN                          3207.0   \n",
       "108                                  NaN                          2400.0   \n",
       "109                                  NaN                          1502.0   \n",
       "110                                  NaN                          1437.0   \n",
       "111                                  NaN                          1636.0   \n",
       "112                                  NaN                          1877.0   \n",
       "\n",
       "                       vaccines         source_name  \\\n",
       "106  Pfizer/BioNTech, Sinopharm  Ministry of Health   \n",
       "107  Pfizer/BioNTech, Sinopharm  Ministry of Health   \n",
       "108  Pfizer/BioNTech, Sinopharm  Ministry of Health   \n",
       "109  Pfizer/BioNTech, Sinopharm  Ministry of Health   \n",
       "110  Pfizer/BioNTech, Sinopharm  Ministry of Health   \n",
       "111  Pfizer/BioNTech, Sinopharm  Ministry of Health   \n",
       "112  Pfizer/BioNTech, Sinopharm  Ministry of Health   \n",
       "\n",
       "                                        source_website  \n",
       "106  https://twitter.com/MOH_Bahrain/status/1358158...  \n",
       "107  https://twitter.com/MOH_Bahrain/status/1358158...  \n",
       "108  https://twitter.com/MOH_Bahrain/status/1358158...  \n",
       "109  https://twitter.com/MOH_Bahrain/status/1358158...  \n",
       "110  https://twitter.com/MOH_Bahrain/status/1358158...  \n",
       "111  https://twitter.com/MOH_Bahrain/status/1358158...  \n",
       "112  https://twitter.com/MOH_Bahrain/status/1358158...  "
      ]
     },
     "execution_count": 25,
     "metadata": {},
     "output_type": "execute_result"
    }
   ],
   "source": [
    "nan_df = X_covid_bah[X_covid_bah[\"date\"].apply(\n",
    "    lambda x: datetime(2021, 1, 20) <= datetime(*map(int, x.split(\"-\"))) <= datetime(2021, 1, 26)\n",
    ")]\n",
    "nan_df"
   ]
  },
  {
   "cell_type": "markdown",
   "metadata": {},
   "source": [
    "Так как в данных наблюдается очевидный растущий тренд, разумно заполнить пропуски с применением линейной интерполяции крайних значений"
   ]
  },
  {
   "cell_type": "code",
   "execution_count": 26,
   "metadata": {},
   "outputs": [],
   "source": [
    "init = nan_df.loc[106, \"total_vaccinations\"]\n",
    "fin = nan_df.loc[112, \"total_vaccinations\"]\n",
    "step = (fin - init)/6\n",
    "for i in range(1, 6):\n",
    "    X_covid.loc[106 + i, \"total_vaccinations\"] = init + step*i"
   ]
  },
  {
   "cell_type": "code",
   "execution_count": 27,
   "metadata": {},
   "outputs": [
    {
     "data": {
      "image/png": "[encoded data removed]",
      "text/plain": [
       "<Figure size 1224x504 with 1 Axes>"
      ]
     },
     "metadata": {
      "needs_background": "light"
     },
     "output_type": "display_data"
    }
   ],
   "source": [
    "X_covid_bah = X_covid[X_covid[\"country\"] == country]\n",
    "plt.figure(figsize=(17, 7))\n",
    "plt.title(\"Total vaccinations per date for Bahrain\", fontsize=20)\n",
    "sns.barplot(data=X_covid_bah, x=\"date\", y=\"total_vaccinations\")\n",
    "plt.xticks(rotation=45);"
   ]
  },
  {
   "cell_type": "markdown",
   "metadata": {},
   "source": [
    "### Задание 4  (0.5 балла)\n",
    "Выполните задание для датасета _hr_.\n",
    "\n",
    "Есть ли в данных выбросы? Если да, то скажите, какие и почему Вы считаете их выбросами?\n"
   ]
  },
  {
   "cell_type": "markdown",
   "metadata": {},
   "source": [
    "К числовым признакам, для которых вводится понятие выброса, относятся только __city_development_index__ и __training_hours__"
   ]
  },
  {
   "cell_type": "code",
   "execution_count": 28,
   "metadata": {},
   "outputs": [
    {
     "data": {
      "image/png": "[encoded data removed]",
      "text/plain": [
       "<Figure size 1008x432 with 2 Axes>"
      ]
     },
     "metadata": {
      "needs_background": "light"
     },
     "output_type": "display_data"
    }
   ],
   "source": [
    "plot_num_distributions(X_hr, num_features)"
   ]
  },
  {
   "cell_type": "markdown",
   "metadata": {},
   "source": [
    "Судя по построенным распределениям, данные признаки не имеют очевидных выбросов, крайние значения расположены довольно близко к основной массе наблюдений"
   ]
  },
  {
   "cell_type": "markdown",
   "metadata": {},
   "source": [
    "### Задание 5  (1 балл)\n",
    "Выполните задание для датасета _hr_.\n",
    "\n",
    "Закодируйте категориальные признаки при помощи One-hot encoding/Label encoding/Frequency encoding. Объясните свой выбор. (Обратите внимание, что некоторые категориальные признаки предполагают ранжирование в своих значениях)\n"
   ]
  },
  {
   "cell_type": "markdown",
   "metadata": {},
   "source": [
    "Для порядковых признаков будем использовать Label Encoding, чтобы сохранить отношение порядка, а для остальных - Frequency encoding (чтобы не раздувать датасет)"
   ]
  },
  {
   "cell_type": "code",
   "execution_count": 29,
   "metadata": {},
   "outputs": [
    {
     "data": {
      "text/html": [
       "<div>\n",
       "<style scoped>\n",
       "    .dataframe tbody tr th:only-of-type {\n",
       "        vertical-align: middle;\n",
       "    }\n",
       "\n",
       "    .dataframe tbody tr th {\n",
       "        vertical-align: top;\n",
       "    }\n",
       "\n",
       "    .dataframe thead th {\n",
       "        text-align: right;\n",
       "    }\n",
       "</style>\n",
       "<table border=\"1\" class=\"dataframe\">\n",
       "  <thead>\n",
       "    <tr style=\"text-align: right;\">\n",
       "      <th></th>\n",
       "      <th>city</th>\n",
       "      <th>gender</th>\n",
       "      <th>relevent_experience</th>\n",
       "      <th>enrolled_university</th>\n",
       "      <th>education_level</th>\n",
       "      <th>major_discipline</th>\n",
       "      <th>experience</th>\n",
       "      <th>company_size</th>\n",
       "      <th>company_type</th>\n",
       "      <th>last_new_job</th>\n",
       "    </tr>\n",
       "  </thead>\n",
       "  <tbody>\n",
       "    <tr>\n",
       "      <td>0</td>\n",
       "      <td>city_103</td>\n",
       "      <td>Male</td>\n",
       "      <td>Has relevent experience</td>\n",
       "      <td>no_enrollment</td>\n",
       "      <td>Graduate</td>\n",
       "      <td>STEM</td>\n",
       "      <td>&gt;20</td>\n",
       "      <td>nan</td>\n",
       "      <td>nan</td>\n",
       "      <td>1</td>\n",
       "    </tr>\n",
       "    <tr>\n",
       "      <td>1</td>\n",
       "      <td>city_40</td>\n",
       "      <td>Male</td>\n",
       "      <td>No relevent experience</td>\n",
       "      <td>no_enrollment</td>\n",
       "      <td>Graduate</td>\n",
       "      <td>STEM</td>\n",
       "      <td>15</td>\n",
       "      <td>50-99</td>\n",
       "      <td>Pvt Ltd</td>\n",
       "      <td>&gt;4</td>\n",
       "    </tr>\n",
       "    <tr>\n",
       "      <td>2</td>\n",
       "      <td>city_21</td>\n",
       "      <td>nan</td>\n",
       "      <td>No relevent experience</td>\n",
       "      <td>Full time course</td>\n",
       "      <td>Graduate</td>\n",
       "      <td>STEM</td>\n",
       "      <td>5</td>\n",
       "      <td>nan</td>\n",
       "      <td>nan</td>\n",
       "      <td>never</td>\n",
       "    </tr>\n",
       "    <tr>\n",
       "      <td>4</td>\n",
       "      <td>city_162</td>\n",
       "      <td>Male</td>\n",
       "      <td>Has relevent experience</td>\n",
       "      <td>no_enrollment</td>\n",
       "      <td>Masters</td>\n",
       "      <td>STEM</td>\n",
       "      <td>&gt;20</td>\n",
       "      <td>50-99</td>\n",
       "      <td>Funded Startup</td>\n",
       "      <td>4</td>\n",
       "    </tr>\n",
       "    <tr>\n",
       "      <td>5</td>\n",
       "      <td>city_176</td>\n",
       "      <td>nan</td>\n",
       "      <td>Has relevent experience</td>\n",
       "      <td>Part time course</td>\n",
       "      <td>Graduate</td>\n",
       "      <td>STEM</td>\n",
       "      <td>11</td>\n",
       "      <td>nan</td>\n",
       "      <td>nan</td>\n",
       "      <td>1</td>\n",
       "    </tr>\n",
       "  </tbody>\n",
       "</table>\n",
       "</div>"
      ],
      "text/plain": [
       "       city gender      relevent_experience enrolled_university  \\\n",
       "0  city_103   Male  Has relevent experience       no_enrollment   \n",
       "1   city_40   Male   No relevent experience       no_enrollment   \n",
       "2   city_21    nan   No relevent experience    Full time course   \n",
       "4  city_162   Male  Has relevent experience       no_enrollment   \n",
       "5  city_176    nan  Has relevent experience    Part time course   \n",
       "\n",
       "  education_level major_discipline experience company_size    company_type  \\\n",
       "0        Graduate             STEM        >20          nan             nan   \n",
       "1        Graduate             STEM         15        50-99         Pvt Ltd   \n",
       "2        Graduate             STEM          5          nan             nan   \n",
       "4         Masters             STEM        >20        50-99  Funded Startup   \n",
       "5        Graduate             STEM         11          nan             nan   \n",
       "\n",
       "  last_new_job  \n",
       "0            1  \n",
       "1           >4  \n",
       "2        never  \n",
       "4            4  \n",
       "5            1  "
      ]
     },
     "execution_count": 29,
     "metadata": {},
     "output_type": "execute_result"
    }
   ],
   "source": [
    "X_hr_fill[cat_features].head()"
   ]
  },
  {
   "cell_type": "code",
   "execution_count": 30,
   "metadata": {
    "scrolled": false
   },
   "outputs": [
    {
     "name": "stdout",
     "output_type": "stream",
     "text": [
      "Statistics for feature\t'city'\n",
      "\n",
      "\n",
      "city_103    4194\n",
      "city_21     2454\n",
      "city_16     1471\n",
      "city_114    1254\n",
      "city_160     817\n",
      "            ... \n",
      "city_79        3\n",
      "city_129       2\n",
      "city_8         2\n",
      "city_140       1\n",
      "city_171       1\n",
      "Name: city, Length: 123, dtype: int64\n",
      "\n",
      "\n",
      "Statistics for feature\t'gender'\n",
      "\n",
      "\n",
      "Male      12772\n",
      "nan        3863\n",
      "Female     1206\n",
      "Other       173\n",
      "Name: gender, dtype: int64\n",
      "\n",
      "\n",
      "Statistics for feature\t'relevent_experience'\n",
      "\n",
      "\n",
      "Has relevent experience    13190\n",
      "No relevent experience      4824\n",
      "Name: relevent_experience, dtype: int64\n",
      "\n",
      "\n",
      "Statistics for feature\t'enrolled_university'\n",
      "\n",
      "\n",
      "no_enrollment       13348\n",
      "Full time course     3517\n",
      "Part time course     1149\n",
      "Name: enrolled_university, dtype: int64\n",
      "\n",
      "\n",
      "Statistics for feature\t'education_level'\n",
      "\n",
      "\n",
      "Graduate          11188\n",
      "Masters            4228\n",
      "High School        1908\n",
      "Phd                 399\n",
      "Primary School      291\n",
      "Name: education_level, dtype: int64\n",
      "\n",
      "\n",
      "Statistics for feature\t'major_discipline'\n",
      "\n",
      "\n",
      "STEM               13993\n",
      "nan                 2222\n",
      "Humanities           653\n",
      "Other                364\n",
      "Business Degree      322\n",
      "Arts                 248\n",
      "No Major             212\n",
      "Name: major_discipline, dtype: int64\n",
      "\n",
      "\n",
      "Statistics for feature\t'experience'\n",
      "\n",
      "\n",
      ">20    3182\n",
      "5      1337\n",
      "4      1298\n",
      "3      1223\n",
      "6      1143\n",
      "2       997\n",
      "7       982\n",
      "10      946\n",
      "9       936\n",
      "8       768\n",
      "15      668\n",
      "11      649\n",
      "14      569\n",
      "16      488\n",
      "1       475\n",
      "12      475\n",
      "<1      451\n",
      "13      387\n",
      "17      331\n",
      "19      294\n",
      "18      273\n",
      "20      142\n",
      "Name: experience, dtype: int64\n",
      "\n",
      "\n",
      "Statistics for feature\t'company_size'\n",
      "\n",
      "\n",
      "nan          5310\n",
      "50-99        2950\n",
      "100-500      2483\n",
      "10000+       1964\n",
      "10/49        1394\n",
      "1000-4999    1282\n",
      "<10          1242\n",
      "500-999       847\n",
      "5000-9999     542\n",
      "Name: company_size, dtype: int64\n",
      "\n",
      "\n",
      "Statistics for feature\t'company_type'\n",
      "\n",
      "\n",
      "Pvt Ltd                9475\n",
      "nan                    5476\n",
      "Funded Startup          975\n",
      "Public Sector           912\n",
      "Early Stage Startup     562\n",
      "NGO                     500\n",
      "Other                   114\n",
      "Name: company_type, dtype: int64\n",
      "\n",
      "\n",
      "Statistics for feature\t'last_new_job'\n",
      "\n",
      "\n",
      "1        7789\n",
      ">4       3210\n",
      "2        2827\n",
      "never    2187\n",
      "4        1010\n",
      "3         991\n",
      "Name: last_new_job, dtype: int64\n",
      "\n",
      "\n"
     ]
    }
   ],
   "source": [
    "print_cat_features_stat(X_hr_fill)"
   ]
  },
  {
   "cell_type": "code",
   "execution_count": 31,
   "metadata": {},
   "outputs": [],
   "source": [
    "nonordinal_features = [\"city\", \"gender\", \"major_discipline\", \"company_type\"]\n",
    "def freq_encode(s):\n",
    "    freq = s.value_counts(dropna=False)/len(s)\n",
    "    mapper = {val: freq.loc[val] for val in freq.index}\n",
    "    return s.map(mapper)"
   ]
  },
  {
   "cell_type": "code",
   "execution_count": 32,
   "metadata": {},
   "outputs": [],
   "source": [
    "match = {\"<\": -1, \">\": 1}\n",
    "a = dict.fromkeys(X_hr.experience.value_counts().index)\n",
    "experience_map = {\n",
    "    x: int(x[1:]) + match[x[0]] if x[0] in \"<>\" else int(x) for x in X_hr.experience.value_counts().index\n",
    "}\n",
    "ordinal_map = {\n",
    "    \"relevent_experience\": {\"No relevent experience\": 0, \"Has relevent experience\": 1},\n",
    "    \"enrolled_university\": {\"no_enrollment\": 0, \"Part time course\": 1, \"Full time course\": 2}, \n",
    "    \"education_level\": {\n",
    "        \"Primary School\": 0, \"High School\": 1, \"Graduate\": 2, \"Masters\": 3, \"Phd\": 4\n",
    "    }, \n",
    "    \"experience\": experience_map,\n",
    "    \"company_size\": {\n",
    "        \"nan\": 0, \"<10\": 1, \"10/49\": 2, \"50-99\": 3, \"100-500\": 4, \"500-999\": 5,\n",
    "        \"1000-4999\": 6, \"5000-9999\": 7, \"10000+\": 8\n",
    "    },\n",
    "    \"last_new_job\": {\"never\": 0, \"1\": 1, \"2\": 2, \"3\": 3, \"4\": 4, \">4\": 5}\n",
    "}"
   ]
  },
  {
   "cell_type": "code",
   "execution_count": 33,
   "metadata": {},
   "outputs": [],
   "source": [
    "def encode(X):\n",
    "    # Возвращает данные без категориальных признаков\n",
    "    X_encode = X.copy()\n",
    "    for cat_feature in cat_features:\n",
    "        if cat_feature in nonordinal_features:\n",
    "            replacer = freq_encode(X[cat_feature])\n",
    "        else:\n",
    "            replacer = X[cat_feature].map(ordinal_map[cat_feature])\n",
    "        X_encode[cat_feature] = replacer\n",
    "    return X_encode"
   ]
  },
  {
   "cell_type": "code",
   "execution_count": 34,
   "metadata": {},
   "outputs": [],
   "source": [
    "X_hr_encode = encode(X_hr_fill)"
   ]
  },
  {
   "cell_type": "code",
   "execution_count": 35,
   "metadata": {},
   "outputs": [
    {
     "data": {
      "text/html": [
       "<div>\n",
       "<style scoped>\n",
       "    .dataframe tbody tr th:only-of-type {\n",
       "        vertical-align: middle;\n",
       "    }\n",
       "\n",
       "    .dataframe tbody tr th {\n",
       "        vertical-align: top;\n",
       "    }\n",
       "\n",
       "    .dataframe thead th {\n",
       "        text-align: right;\n",
       "    }\n",
       "</style>\n",
       "<table border=\"1\" class=\"dataframe\">\n",
       "  <thead>\n",
       "    <tr style=\"text-align: right;\">\n",
       "      <th></th>\n",
       "      <th>enrollee_id</th>\n",
       "      <th>city</th>\n",
       "      <th>city_development_index</th>\n",
       "      <th>gender</th>\n",
       "      <th>relevent_experience</th>\n",
       "      <th>enrolled_university</th>\n",
       "      <th>education_level</th>\n",
       "      <th>major_discipline</th>\n",
       "      <th>experience</th>\n",
       "      <th>company_size</th>\n",
       "      <th>company_type</th>\n",
       "      <th>last_new_job</th>\n",
       "      <th>training_hours</th>\n",
       "    </tr>\n",
       "  </thead>\n",
       "  <tbody>\n",
       "    <tr>\n",
       "      <td>0</td>\n",
       "      <td>8949</td>\n",
       "      <td>0.232819</td>\n",
       "      <td>0.920</td>\n",
       "      <td>0.709004</td>\n",
       "      <td>1</td>\n",
       "      <td>0</td>\n",
       "      <td>2</td>\n",
       "      <td>0.776785</td>\n",
       "      <td>21</td>\n",
       "      <td>0</td>\n",
       "      <td>0.303986</td>\n",
       "      <td>1</td>\n",
       "      <td>36</td>\n",
       "    </tr>\n",
       "    <tr>\n",
       "      <td>1</td>\n",
       "      <td>29725</td>\n",
       "      <td>0.003497</td>\n",
       "      <td>0.776</td>\n",
       "      <td>0.709004</td>\n",
       "      <td>0</td>\n",
       "      <td>0</td>\n",
       "      <td>2</td>\n",
       "      <td>0.776785</td>\n",
       "      <td>15</td>\n",
       "      <td>3</td>\n",
       "      <td>0.525980</td>\n",
       "      <td>5</td>\n",
       "      <td>47</td>\n",
       "    </tr>\n",
       "    <tr>\n",
       "      <td>2</td>\n",
       "      <td>11561</td>\n",
       "      <td>0.136227</td>\n",
       "      <td>0.624</td>\n",
       "      <td>0.214444</td>\n",
       "      <td>0</td>\n",
       "      <td>2</td>\n",
       "      <td>2</td>\n",
       "      <td>0.776785</td>\n",
       "      <td>5</td>\n",
       "      <td>0</td>\n",
       "      <td>0.303986</td>\n",
       "      <td>0</td>\n",
       "      <td>83</td>\n",
       "    </tr>\n",
       "    <tr>\n",
       "      <td>4</td>\n",
       "      <td>666</td>\n",
       "      <td>0.006384</td>\n",
       "      <td>0.767</td>\n",
       "      <td>0.709004</td>\n",
       "      <td>1</td>\n",
       "      <td>0</td>\n",
       "      <td>3</td>\n",
       "      <td>0.776785</td>\n",
       "      <td>21</td>\n",
       "      <td>3</td>\n",
       "      <td>0.054125</td>\n",
       "      <td>4</td>\n",
       "      <td>8</td>\n",
       "    </tr>\n",
       "    <tr>\n",
       "      <td>5</td>\n",
       "      <td>21651</td>\n",
       "      <td>0.001110</td>\n",
       "      <td>0.764</td>\n",
       "      <td>0.214444</td>\n",
       "      <td>1</td>\n",
       "      <td>1</td>\n",
       "      <td>2</td>\n",
       "      <td>0.776785</td>\n",
       "      <td>11</td>\n",
       "      <td>0</td>\n",
       "      <td>0.303986</td>\n",
       "      <td>1</td>\n",
       "      <td>24</td>\n",
       "    </tr>\n",
       "  </tbody>\n",
       "</table>\n",
       "</div>"
      ],
      "text/plain": [
       "   enrollee_id      city  city_development_index    gender  \\\n",
       "0         8949  0.232819                   0.920  0.709004   \n",
       "1        29725  0.003497                   0.776  0.709004   \n",
       "2        11561  0.136227                   0.624  0.214444   \n",
       "4          666  0.006384                   0.767  0.709004   \n",
       "5        21651  0.001110                   0.764  0.214444   \n",
       "\n",
       "   relevent_experience  enrolled_university  education_level  \\\n",
       "0                    1                    0                2   \n",
       "1                    0                    0                2   \n",
       "2                    0                    2                2   \n",
       "4                    1                    0                3   \n",
       "5                    1                    1                2   \n",
       "\n",
       "   major_discipline  experience  company_size  company_type  last_new_job  \\\n",
       "0          0.776785          21             0      0.303986             1   \n",
       "1          0.776785          15             3      0.525980             5   \n",
       "2          0.776785           5             0      0.303986             0   \n",
       "4          0.776785          21             3      0.054125             4   \n",
       "5          0.776785          11             0      0.303986             1   \n",
       "\n",
       "   training_hours  \n",
       "0              36  \n",
       "1              47  \n",
       "2              83  \n",
       "4               8  \n",
       "5              24  "
      ]
     },
     "execution_count": 35,
     "metadata": {},
     "output_type": "execute_result"
    }
   ],
   "source": [
    "X_hr_encode.head()"
   ]
  },
  {
   "cell_type": "code",
   "execution_count": 36,
   "metadata": {},
   "outputs": [
    {
     "data": {
      "text/plain": [
       "(18014, 13)"
      ]
     },
     "execution_count": 36,
     "metadata": {},
     "output_type": "execute_result"
    }
   ],
   "source": [
    "X_hr_encode.shape"
   ]
  },
  {
   "cell_type": "markdown",
   "metadata": {},
   "source": [
    "### Задание 6 (3.5 балла)\n",
    "\n",
    "Выполните задание для датасета _hr_.\n",
    "\n",
    "\n"
   ]
  },
  {
   "cell_type": "markdown",
   "metadata": {},
   "source": [
    "#### 1. (1 балл)\n",
    "Реализуйте функцию undersampling"
   ]
  },
  {
   "cell_type": "markdown",
   "metadata": {},
   "source": [
    "#### 2. (1 балл)\n",
    "Реализуйте функцию oversampling"
   ]
  },
  {
   "cell_type": "code",
   "execution_count": 37,
   "metadata": {},
   "outputs": [],
   "source": [
    "def undersampling(X, y):\n",
    "    # Возвращает данные, сбалансированные методом undersampling\n",
    "    data = pd.DataFrame(data=X.copy())\n",
    "    data[\"target\"] = y\n",
    "    data0 = data[data.target == 0]\n",
    "    data1 = data[data.target == 1]\n",
    "    data0 = data0.sample(n=len(data1), random_state=19)\n",
    "    data = pd.concat([data0, data1], axis=0)\n",
    "    return data.drop(\"target\", axis=1), data[\"target\"]\n",
    "\n",
    "def oversampling(X, y):\n",
    "    # Возвращает данные, сбалансированные методом oversampling\n",
    "    data = pd.DataFrame(data=X.copy())\n",
    "    data[\"target\"] = y\n",
    "    data0 = data[data.target == 0]\n",
    "    data1 = data[data.target == 1]\n",
    "    data1_ = data1.sample(n=len(data0) - len(data1), replace=True, random_state=19)\n",
    "    data = pd.concat([data0, data1, data1_], axis=0)\n",
    "    return data.drop(\"target\", axis=1), data[\"target\"]"
   ]
  },
  {
   "cell_type": "code",
   "execution_count": 38,
   "metadata": {},
   "outputs": [],
   "source": [
    "X_hr_under, y_hr_under = undersampling(X_hr_encode, y_hr_fill)\n",
    "\n",
    "X_hr_over, y_hr_over = oversampling(X_hr_encode, y_hr_fill)"
   ]
  },
  {
   "cell_type": "code",
   "execution_count": 39,
   "metadata": {},
   "outputs": [
    {
     "name": "stdout",
     "output_type": "stream",
     "text": [
      "Undersampled shape:  (8842, 13) (8842,)\n",
      "Oversampled shape:  (27186, 13) (27186,)\n"
     ]
    }
   ],
   "source": [
    "print(\"Undersampled shape: \", X_hr_under.shape, y_hr_under.shape)\n",
    "print(\"Oversampled shape: \", X_hr_over.shape, y_hr_over.shape)"
   ]
  },
  {
   "cell_type": "markdown",
   "metadata": {},
   "source": [
    "#### 3. (1 балл)\n",
    "Используйте _SMOTE_ для балансировки датасета."
   ]
  },
  {
   "cell_type": "markdown",
   "metadata": {},
   "source": [
    "Помимо методов _undersampling_ и _oversampling_ существует подход, генерирующий элементы класса-меньшинства, похожие на уже присутствующие в выборке данных. Такой метод называется _Synthetic Minority Oversampling Technique_ (SMOTE). \n",
    "\n",
    "Метод _SMOTE_ , реализованный в библиотеке `imblearn`, генерирует синтетические примеры при помощи __k-nearest neighbor__ алгоритма (подробнее об этом алгоритме будет рассказано на лекции)."
   ]
  },
  {
   "cell_type": "code",
   "execution_count": 40,
   "metadata": {
    "scrolled": true
   },
   "outputs": [
    {
     "name": "stdout",
     "output_type": "stream",
     "text": [
      "Requirement already up-to-date: imbalanced-learn in /Users/a18264698/.local/lib/python3.7/site-packages (0.7.0)\r\n",
      "Requirement already satisfied, skipping upgrade: numpy>=1.13.3 in /opt/anaconda3/lib/python3.7/site-packages (from imbalanced-learn) (1.17.2)\r\n",
      "Requirement already satisfied, skipping upgrade: scipy>=0.19.1 in /opt/anaconda3/lib/python3.7/site-packages (from imbalanced-learn) (1.3.1)\r\n",
      "Requirement already satisfied, skipping upgrade: joblib>=0.11 in /opt/anaconda3/lib/python3.7/site-packages (from imbalanced-learn) (0.13.2)\r\n",
      "Requirement already satisfied, skipping upgrade: scikit-learn>=0.23 in /Users/a18264698/.local/lib/python3.7/site-packages (from imbalanced-learn) (0.24.1)\r\n",
      "Requirement already satisfied, skipping upgrade: threadpoolctl>=2.0.0 in /Users/a18264698/.local/lib/python3.7/site-packages (from scikit-learn>=0.23->imbalanced-learn) (2.1.0)\r\n"
     ]
    }
   ],
   "source": [
    "!pip install --user -U imbalanced-learn"
   ]
  },
  {
   "cell_type": "code",
   "execution_count": 41,
   "metadata": {},
   "outputs": [],
   "source": [
    "from imblearn.over_sampling import SMOTE\n",
    "\n",
    "smote = SMOTE(sampling_strategy=1, random_state=19, k_neighbors=5, n_jobs=4)\n",
    "X_hr_SMOTE, y_hr_SMOTE = smote.fit_resample(X_hr_encode, y_hr_fill)"
   ]
  },
  {
   "cell_type": "code",
   "execution_count": 42,
   "metadata": {},
   "outputs": [
    {
     "name": "stdout",
     "output_type": "stream",
     "text": [
      "Oversampled with SMOTE shape:  (27186, 13) (27186,)\n"
     ]
    }
   ],
   "source": [
    "print(\"Oversampled with SMOTE shape: \", X_hr_SMOTE.shape, y_hr_SMOTE.shape)"
   ]
  },
  {
   "cell_type": "markdown",
   "metadata": {},
   "source": [
    "#### 4. (0.5 балла)\n",
    "Как изменились распределения признаков при различных тактиках балансирования датасета?"
   ]
  },
  {
   "cell_type": "markdown",
   "metadata": {},
   "source": [
    "Для числовых признаков"
   ]
  },
  {
   "cell_type": "markdown",
   "metadata": {},
   "source": [
    "1. Random Undersampling"
   ]
  },
  {
   "cell_type": "code",
   "execution_count": 43,
   "metadata": {},
   "outputs": [
    {
     "data": {
      "image/png": "[encoded data removed]",
      "text/plain": [
       "<Figure size 1008x432 with 2 Axes>"
      ]
     },
     "metadata": {
      "needs_background": "light"
     },
     "output_type": "display_data"
    }
   ],
   "source": [
    "plot_num_distributions(X_hr_under, num_features)"
   ]
  },
  {
   "cell_type": "markdown",
   "metadata": {},
   "source": [
    "2. Random Oversampling "
   ]
  },
  {
   "cell_type": "code",
   "execution_count": 44,
   "metadata": {},
   "outputs": [
    {
     "data": {
      "image/png": "[encoded data removed]",
      "text/plain": [
       "<Figure size 1008x432 with 2 Axes>"
      ]
     },
     "metadata": {
      "needs_background": "light"
     },
     "output_type": "display_data"
    }
   ],
   "source": [
    "plot_num_distributions(X_hr_over, num_features)"
   ]
  },
  {
   "cell_type": "markdown",
   "metadata": {},
   "source": [
    "3. SMOTE"
   ]
  },
  {
   "cell_type": "code",
   "execution_count": 45,
   "metadata": {
    "scrolled": false
   },
   "outputs": [
    {
     "data": {
      "image/png": "[encoded data removed]",
      "text/plain": [
       "<Figure size 1008x432 with 2 Axes>"
      ]
     },
     "metadata": {
      "needs_background": "light"
     },
     "output_type": "display_data"
    }
   ],
   "source": [
    "plot_num_distributions(X_hr_SMOTE, num_features)"
   ]
  },
  {
   "cell_type": "markdown",
   "metadata": {},
   "source": [
    "Для числовых признаков распределения практически идентичны"
   ]
  },
  {
   "cell_type": "markdown",
   "metadata": {},
   "source": [
    "Для категориальных признаков"
   ]
  },
  {
   "cell_type": "code",
   "execution_count": 46,
   "metadata": {},
   "outputs": [],
   "source": [
    "def plot_cat_distributions(features):\n",
    "    nrows = len(features)\n",
    "    fig, ax = plt.subplots(nrows, 3, figsize=(14, 4*nrows))\n",
    "    fig.suptitle(\"Categorical features distributions\")\n",
    "    data = [X_hr_under, X_hr_over, X_hr_SMOTE]\n",
    "    titles = [\"under\", \"over\", \"smote\"]\n",
    "    for i, j in product(range(nrows), range(3)):\n",
    "        feature = features[i]\n",
    "        if nrows == 1:\n",
    "            ax[j].set_title(feature + \"_\" + titles[j])\n",
    "            data[j][feature].hist(ax=ax[j], bins=50)\n",
    "        else:\n",
    "            ax[i, j].set_title(feature + \"_\" + titles[j])\n",
    "            data[j][feature].hist(ax=ax[i, j], bins=20)"
   ]
  },
  {
   "cell_type": "code",
   "execution_count": 47,
   "metadata": {
    "scrolled": false
   },
   "outputs": [
    {
     "data": {
      "image/png": "[encoded data removed]",
      "text/plain": [
       "<Figure size 1008x2880 with 30 Axes>"
      ]
     },
     "metadata": {
      "needs_background": "light"
     },
     "output_type": "display_data"
    }
   ],
   "source": [
    "plot_cat_distributions(cat_features)"
   ]
  },
  {
   "cell_type": "markdown",
   "metadata": {},
   "source": [
    "Распределения категориальных признаков в целом меняются слабо, только для закодированных чатотами признаков при использовании SMOTE появляются промежуточные значения"
   ]
  }
 ],
 "metadata": {
  "kernelspec": {
   "display_name": "Python 3",
   "language": "python",
   "name": "python3"
  },
  "language_info": {
   "codemirror_mode": {
    "name": "ipython",
    "version": 3
   },
   "file_extension": ".py",
   "mimetype": "text/x-python",
   "name": "python",
   "nbconvert_exporter": "python",
   "pygments_lexer": "ipython3",
   "version": "3.7.4"
  }
 },
 "nbformat": 4,
 "nbformat_minor": 4
}
