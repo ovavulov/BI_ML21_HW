{
 "cells": [
  {
   "cell_type": "markdown",
   "metadata": {},
   "source": [
    "# Деревья решений решают проблемы\n",
    "__Суммарное количество баллов: 10__\n",
    "\n",
    "Вы уже знакомы с классификацией методом KNN. В этом задании предстоит реализовать другой метод классификации - дерево решений. \n",
    "\n",
    "Одной из его особенностей является возможность объяснить в человекочитаемой форме, почему мы отнесли объект к определенному классу. Эта особенность позволяет использовать деревья решений для создания систем, которые могут подсказывать специалистам, на что именно стоит обратить внимание при принятии решений."
   ]
  },
  {
   "cell_type": "code",
   "execution_count": 1,
   "metadata": {},
   "outputs": [],
   "source": [
    "import warnings\n",
    "warnings.filterwarnings(\"ignore\")\n",
    "\n",
    "import os\n",
    "import numpy as np\n",
    "import pandas as pd\n",
    "import random\n",
    "import matplotlib.pyplot as plt\n",
    "import matplotlib\n",
    "from numba import njit, prange"
   ]
  },
  {
   "cell_type": "code",
   "execution_count": 2,
   "metadata": {},
   "outputs": [],
   "source": [
    "SEED = 19"
   ]
  },
  {
   "cell_type": "markdown",
   "metadata": {},
   "source": [
    "### Задание 1 (1 балл)\n",
    "Во время построения дерева решений нам потребуется определить, какой из предикатов лучше всего разбивает обучающую выборку. Есть два критерия, которые позволяют это сделать: критерий Джини и энтропийный критерий. Первый для подсчета информативности разбиения использует коэффициент Джини, второй - энтропию. Реализуйте подсчет этих коэффициентов, а так же подсчет информативности разбиения. \n",
    "\n",
    "#### Описание функций\n",
    "`gini(x)` считает коэффициент Джини для массива меток\n",
    "\n",
    "`entropy(x)` считает энтропию для массива меток\n",
    "\n",
    "`gain(left_y, right_y, criterion)` считает информативность разбиения массива меток на левую `left_y` и правую `right_y` части при помощи `criterion`, который задается функцией (не строкой)."
   ]
  },
  {
   "cell_type": "code",
   "execution_count": 3,
   "metadata": {},
   "outputs": [],
   "source": [
    "@njit(cache=True)\n",
    "def gini(x):\n",
    "    probs = (np.bincount(np.sort(x))/len(x))\n",
    "    return (probs * (1 - probs)).sum()\n",
    "\n",
    "@njit(cache=True)   \n",
    "def entropy(x):\n",
    "    probs = (np.bincount(np.sort(x))/len(x))\n",
    "    return -(probs * np.log2(probs)).sum()\n",
    "\n",
    "@njit\n",
    "def information_gain(left_y, right_y, criterion):\n",
    "    assert criterion in [\"gini\", \"entropy\"]\n",
    "    criterion_fn = gini if criterion == \"gini\" else entropy\n",
    "    left_n, right_n = len(left_y), len(right_y)\n",
    "    total_n = left_n + right_n\n",
    "    total_y = np.concatenate((left_y, right_y))\n",
    "    result = criterion_fn(total_y) - criterion_fn(left_y)*left_n/total_n - criterion_fn(right_y)*right_n/total_n\n",
    "    return result"
   ]
  },
  {
   "cell_type": "markdown",
   "metadata": {},
   "source": [
    "### Задание 2 (1 балл)\n",
    "Деревья решений имеют хорошую интерпретируемость, т.к. позволяют не только предсказать класс, но и объяснить, почему мы предсказали именно его. Например, мы можем его нарисовать. Чтобы сделать это, нам необходимо знать, как оно устроено внутри. Реализуйте классы, которые будут задавать структуру дерева. \n",
    "\n",
    "#### DecisionTreeLeaf\n",
    "Поля:\n",
    "1. `y` должно содержать класс, который встречается чаще всего среди элементов листа дерева\n",
    "\n",
    "#### DecisionTreeNode\n",
    "В данной домашней работе мы ограничемся порядковыми и количественными признаками, поэтому достаточно хранить измерение и значение признака, по которому разбиваем обучающую выборку.\n",
    "\n",
    "Поля:\n",
    "1. `split_dim` измерение, по которому разбиваем выборку\n",
    "2. `split_value` значение, по которому разбираем выборку\n",
    "3. `left` поддерево, отвечающее за случай `x[split_dim] < split_value`. Может быть `DecisionTreeNode` или `DecisionTreeLeaf`\n",
    "4. `right` поддерево, отвечающее за случай `x[split_dim] >= split_value`. Может быть `DecisionTreeNode` или `DecisionTreeLeaf`\n",
    "\n",
    "__Интерфейс классов можно и нужно менять при необходимости__ (например, для вычисления вероятности в следующем задании)"
   ]
  },
  {
   "cell_type": "code",
   "execution_count": 4,
   "metadata": {},
   "outputs": [],
   "source": [
    "class DecisionTreeLeaf:\n",
    "    \n",
    "    def __init__(self, X, y, depth, classes):\n",
    "        assert (X.index == y.index).all()\n",
    "        assert int(depth) == depth and depth > 0\n",
    "        self.type = \"leaf\"\n",
    "        self.X = X\n",
    "        self.y = y\n",
    "        self.classes = classes\n",
    "        self.depth = depth\n",
    "        self.volume = len(y)\n",
    "        self.main_target = None\n",
    "        self.target_proba = None\n",
    "    \n",
    "    def process_labels(self):\n",
    "        probs = pd.Series(self.y).value_counts(normalize=True).sort_index()\n",
    "        self.main_target = probs.argmax()\n",
    "        self.target_proba = {x: probs[x] if x in probs.keys() else 0 for x in self.classes}\n",
    "        \n",
    "    def check_limits(self, max_depth, min_volume):\n",
    "        result = True\n",
    "        if max_depth and self.depth > max_depth:\n",
    "            result = False\n",
    "        # если текущий лист не превосходит вдвое минимальный объем - нет смысла искать его разбиение\n",
    "        if self.volume < 2 * min_volume:\n",
    "            result = False\n",
    "        return result\n",
    "            \n",
    "        \n",
    "class DecisionTreeNode:\n",
    "    \n",
    "    def __init__(self, split_dim, split_value, left, right):\n",
    "        self.type = \"node\"\n",
    "        self.split_dim = split_dim\n",
    "        self.split_value = split_value\n",
    "        self.left = left\n",
    "        self.right = right"
   ]
  },
  {
   "cell_type": "markdown",
   "metadata": {},
   "source": [
    "### Задание 3 (6 баллов)\n",
    "Теперь перейдем к самому дереву решений. Реализуйте класс `DecisionTreeClassifier`.\n",
    "\n",
    "#### Описание методов\n",
    "`fit(X, y)` строит дерево решений по обучающей выборке.\n",
    "\n",
    "`predict_proba(X)` для каждого элемента из `X` возвращает словарь `dict`, состоящий из пар `(класс, вероятность)`. Вероятности классов в листе можно определить через количество объектов соответствующего класса в листе. \n",
    "\n",
    "#### Описание параметров конструктора\n",
    "`criterion=\"gini\"` - задает критерий, который будет использоваться при построении дерева. Возможные значения: `\"gini\"`, `\"entropy\"`.\n",
    "\n",
    "`max_depth=None` - ограничение глубины дерева. Если `None` - глубина не ограничена\n",
    "\n",
    "`min_samples_leaf=1` - минимальное количество элементов в каждом листе дерева.\n",
    "\n",
    "#### Описание полей\n",
    "`root` - корень дерева. Может быть `DecisionTreeNode` или `DecisionTreeLeaf`"
   ]
  },
  {
   "cell_type": "code",
   "execution_count": 5,
   "metadata": {},
   "outputs": [],
   "source": [
    "class DecisionTreeClassifier:\n",
    "    \n",
    "    def __init__(self, criterion=\"gini\", max_depth=None, min_samples_leaf=1):\n",
    "        # проверки параметров\n",
    "        assert criterion in [\"gini\", \"entropy\"]\n",
    "        assert max_depth is None or max_depth > 0 and int(max_depth) == max_depth\n",
    "        assert min_samples_leaf > 0 and int(min_samples_leaf) == min_samples_leaf\n",
    "        self.tree = None\n",
    "        self.criterion = criterion\n",
    "        self.max_depth = max_depth\n",
    "        self.min_samples_leaf = min_samples_leaf\n",
    "    \n",
    "    def fit(self, X, y):\n",
    "        \n",
    "        # быстрая функция для итерирования по всем возможным порогам\n",
    "        @njit(cache=True)\n",
    "        def iterate(X, y, min_volume, criterion):\n",
    "            best_gain = 0\n",
    "            best_col = -1\n",
    "            best_val = 0\n",
    "            for i in prange(X.shape[1]):\n",
    "                X_col = X[:, i]\n",
    "                values = np.sort(np.unique(X_col))\n",
    "                for j in prange(1, len(values)):\n",
    "                    val = values[j]\n",
    "                    left_y, right_y = y[X_col < val], y[X_col >= val]\n",
    "                    curr_gain = information_gain(left_y, right_y, criterion=criterion)\n",
    "                    if curr_gain > best_gain and len(left_y) > min_volume and len(right_y) > min_volume:\n",
    "                        best_gain = curr_gain\n",
    "                        best_col = i\n",
    "                        best_val = val\n",
    "            return best_gain, best_col, best_val\n",
    "        \n",
    "        # функция для поиска лучшего разбиения\n",
    "        def best_split_search(leaf):\n",
    "            if not leaf.check_limits(self.max_depth, self.min_samples_leaf):\n",
    "                return leaf\n",
    "            X = leaf.X\n",
    "            y = leaf.y\n",
    "            gain, idx, value = iterate(X.values, y.values, self.min_samples_leaf, self.criterion)\n",
    "            if gain:\n",
    "                dim = X.columns[idx]\n",
    "                left_X, right_X = X[X[dim] < value], X[X[dim] >= value]\n",
    "                left_y, right_y = y[left_X.index], y[right_X.index]\n",
    "                left = DecisionTreeLeaf(left_X, left_y, depth=leaf.depth + 1, classes=leaf.classes)\n",
    "                right = DecisionTreeLeaf(right_X, right_y, depth=leaf.depth + 1, classes=leaf.classes)\n",
    "                best_node = DecisionTreeNode(dim, value, left, right)\n",
    "                return best_node\n",
    "            else:\n",
    "                return leaf\n",
    "        \n",
    "        # рекурсивная функция построения дерева решений\n",
    "        def build_tree(leaf):\n",
    "            split = best_split_search(leaf)\n",
    "            if split.type == \"leaf\":\n",
    "                split.process_labels()\n",
    "                return split\n",
    "            elif split.type == \"node\":\n",
    "                left_branch = build_tree(split.left)\n",
    "                right_branch = build_tree(split.right)\n",
    "                split.left = left_branch\n",
    "                split.right = right_branch\n",
    "                return split\n",
    "        \n",
    "        # строим дерево от корня\n",
    "        root = DecisionTreeLeaf(X, y, depth=1, classes=np.unique(y))\n",
    "        self.tree = build_tree(root)\n",
    "       \n",
    "    \n",
    "    def get_leaves_stat(self):\n",
    "        leaves = []\n",
    "        def find_leaves(tree):\n",
    "            if tree.type == \"node\":\n",
    "                find_leaves(tree.left)\n",
    "                find_leaves(tree.right)\n",
    "            else:\n",
    "                leaves.append(tree)\n",
    "        find_leaves(self.tree)\n",
    "        stat = pd.DataFrame(index=range(len(leaves)), columns=[\"volume\", \"depth\"])\n",
    "        for i in range(len(leaves)):\n",
    "            leaf = leaves[i]\n",
    "            stat.iloc[i, :] = [leaf.X.shape[0], leaf.depth]            \n",
    "        return leaves, stat\n",
    "    \n",
    "        \n",
    "    def predict_proba(self, X):\n",
    "        probs = dict.fromkeys(X.index)\n",
    "        for i in X.index:\n",
    "            example = X.loc[i, :]\n",
    "            cursor = self.tree\n",
    "            while cursor.type == \"node\":\n",
    "                feature, value = cursor.split_dim, cursor.split_value\n",
    "                if example[feature] < value:\n",
    "                    cursor = cursor.left\n",
    "                else:\n",
    "                    cursor = cursor.right\n",
    "            else:\n",
    "                probs[i] = cursor.target_proba\n",
    "        return pd.Series(probs)\n",
    "    \n",
    "    def predict(self, X):\n",
    "        probs = self.predict_proba(X)\n",
    "        return probs.apply(lambda x: pd.Series(x).argmax())"
   ]
  },
  {
   "cell_type": "markdown",
   "metadata": {},
   "source": [
    "Построенное дерево можно нарисовать. Метод `draw_tree` рисует дерево и сохраняет его в указанный файл."
   ]
  },
  {
   "cell_type": "code",
   "execution_count": 6,
   "metadata": {},
   "outputs": [],
   "source": [
    "def tree_depth(tree_root):\n",
    "    if isinstance(tree_root, DecisionTreeNode):\n",
    "        return max(tree_depth(tree_root.left), tree_depth(tree_root.right)) + 1\n",
    "    else:\n",
    "        return 1\n",
    "\n",
    "def draw_tree_rec(tree_root, x_left, x_right, y):\n",
    "    x_center = (x_right - x_left) / 2 + x_left\n",
    "    if isinstance(tree_root, DecisionTreeNode):\n",
    "        x_center = (x_right - x_left) / 2 + x_left\n",
    "        x = draw_tree_rec(tree_root.left, x_left, x_center, y - 1)\n",
    "        plt.plot((x_center, x), (y - 0.1, y - 0.9), c=(0, 0, 0))\n",
    "        x = draw_tree_rec(tree_root.right, x_center, x_right, y - 1)\n",
    "        plt.plot((x_center, x), (y - 0.1, y - 0.9), c=(0, 0, 0))\n",
    "        plt.text(x_center, y, \"x[%i] < %f\" % (tree_root.split_dim, tree_root.split_value),\n",
    "                horizontalalignment='center')\n",
    "    else:\n",
    "        plt.text(x_center, y, str(tree_root.y),\n",
    "                horizontalalignment='center')\n",
    "    return x_center\n",
    "\n",
    "def draw_tree(tree, save_path=None):\n",
    "    td = tree_depth(tree.tree)\n",
    "    plt.figure(figsize=(0.33 * 2 ** td, 2 * td))\n",
    "    plt.xlim(-1, 1)\n",
    "    plt.ylim(0.95, td + 0.05)\n",
    "    plt.axis('off')\n",
    "    draw_tree_rec(tree.tree, -1, 1, td)\n",
    "    plt.tight_layout()\n",
    "    if save_path is not None:\n",
    "        plt.savefig(save_path)\n",
    "    plt.show()"
   ]
  },
  {
   "cell_type": "markdown",
   "metadata": {},
   "source": [
    "Для двумерного набора данных дерево можно отобразить на плоскости с данными. Кроме того, как и для любого классификатора, для него можно построить roc-кривую"
   ]
  },
  {
   "cell_type": "code",
   "execution_count": 7,
   "metadata": {},
   "outputs": [],
   "source": [
    "def plot_roc_curve(y_test, p_pred):\n",
    "    positive_samples = sum(1 for y in y_test if y == 0)\n",
    "    tpr = []\n",
    "    fpr = []\n",
    "    for w in np.arange(-0.01, 1.02, 0.01):\n",
    "        y_pred = [(0 if p.get(0, 0) > w else 1) for p in p_pred]\n",
    "        tpr.append(sum(1 for yp, yt in zip(y_pred, y_test) if yp == 0 and yt == 0) / positive_samples)\n",
    "        fpr.append(sum(1 for yp, yt in zip(y_pred, y_test) if yp == 0 and yt != 0) / (len(y_test) - positive_samples))\n",
    "    plt.figure(figsize = (7, 7))\n",
    "    plt.plot(fpr, tpr)\n",
    "    plt.plot([0, 1], [0, 1], linestyle=\"--\")\n",
    "    plt.xlabel(\"False positive rate\")\n",
    "    plt.ylabel(\"True positive rate\")\n",
    "    plt.xlim(-0.01, 1.01)\n",
    "    plt.ylim(-0.01, 1.01)\n",
    "    plt.tight_layout()\n",
    "    plt.show()\n",
    "\n",
    "def rectangle_bounds(bounds):\n",
    "    return ((bounds[0][0], bounds[0][0], bounds[0][1], bounds[0][1]), \n",
    "            (bounds[1][0], bounds[1][1], bounds[1][1], bounds[1][0]))\n",
    "\n",
    "def plot_2d_tree(tree_root, bounds, colors):\n",
    "    if isinstance(tree_root, DecisionTreeNode):\n",
    "        if tree_root.split_dim:\n",
    "            plot_2d_tree(tree_root.left, [bounds[0], [bounds[1][0], tree_root.split_value]], colors)\n",
    "            plot_2d_tree(tree_root.right, [bounds[0], [tree_root.split_value, bounds[1][1]]], colors)\n",
    "            plt.plot(bounds[0], (tree_root.split_value, tree_root.split_value), c=(0, 0, 0))\n",
    "        else:\n",
    "            plot_2d_tree(tree_root.left, [[bounds[0][0], tree_root.split_value], bounds[1]], colors)\n",
    "            plot_2d_tree(tree_root.right, [[tree_root.split_value, bounds[0][1]], bounds[1]], colors)\n",
    "            plt.plot((tree_root.split_value, tree_root.split_value), bounds[1], c=(0, 0, 0))\n",
    "    else:\n",
    "        x, y = rectangle_bounds(bounds)\n",
    "        plt.fill(x, y, c=colors[tree_root.y] + [0.2])\n",
    "\n",
    "def plot_2d(tree, X, y):\n",
    "    plt.figure(figsize=(9, 9))\n",
    "    colors = dict((c, list(np.random.random(3))) for c in np.unique(y))\n",
    "    bounds = list(zip(np.min(X, axis=0), np.max(X, axis=0)))\n",
    "    plt.xlim(*bounds[0])\n",
    "    plt.ylim(*bounds[1])\n",
    "    plot_2d_tree(tree.root, list(zip(np.min(X, axis=0), np.max(X, axis=0))), colors)\n",
    "    for c in np.unique(y):\n",
    "        plt.scatter(X[y==c, 0], X[y==c, 1], c=[colors[c]], label=c)\n",
    "    plt.legend()\n",
    "    plt.tight_layout()\n",
    "    plt.show()"
   ]
  },
  {
   "cell_type": "markdown",
   "metadata": {},
   "source": [
    "## Задание 4 (2 балла)"
   ]
  },
  {
   "cell_type": "markdown",
   "metadata": {},
   "source": [
    "Протестируйте решение на данных cancer и spam (датасеты из директории `hw2_data`).\n",
    "Выполните загрузку и предобработку данных.\n",
    "\n",
    "\n",
    "Если необходимо, попробуйте разные наборы параметров для получения лучшего результата.\n",
    "\n",
    "Посчитайте метрики `precision`, `recall`, `accuracy` для модели дерева.\n",
    "Сравните значения метрик с результатами модели kNN из предыдущего задания (можно использовать реализацию из библиотеки `sklearn`). \n",
    "\n",
    "Какой нужен препроцессинг данных для моделей?\n",
    "Какая модель делает предсказания лучше?  Предположите, почему."
   ]
  },
  {
   "cell_type": "markdown",
   "metadata": {},
   "source": [
    "_Ваш ответ_"
   ]
  },
  {
   "cell_type": "code",
   "execution_count": 8,
   "metadata": {},
   "outputs": [],
   "source": [
    "from sklearn.neighbors import KNeighborsClassifier\n",
    "from sklearn.model_selection import train_test_split\n",
    "from sklearn.metrics import roc_auc_score, average_precision_score, roc_curve, \\\n",
    "                            precision_recall_curve, classification_report\n",
    "from sklearn.preprocessing import StandardScaler"
   ]
  },
  {
   "cell_type": "code",
   "execution_count": 9,
   "metadata": {},
   "outputs": [],
   "source": [
    "home_path = os.getcwd()\n",
    "CANCER_DATA_PATH = os.path.join(home_path, \"hw2_data\", \"cancer.csv\")\n",
    "SPAM_DATA_PATH = os.path.join(home_path, \"hw2_data\", \"spam.csv\")"
   ]
  },
  {
   "cell_type": "code",
   "execution_count": 10,
   "metadata": {},
   "outputs": [],
   "source": [
    "def read_cancer_dataset(path_to_csv):\n",
    "    df = pd.read_csv(path_to_csv)\n",
    "    X, y = df.drop(\"label\", axis=1), df.label\n",
    "    return X, y\n",
    "\n",
    "def read_spam_dataset(path_to_csv):\n",
    "    return read_cancer_dataset(path_to_csv)"
   ]
  },
  {
   "cell_type": "code",
   "execution_count": 11,
   "metadata": {},
   "outputs": [],
   "source": [
    "X_cancer, y_cancer = read_cancer_dataset(CANCER_DATA_PATH)\n",
    "y_cancer = y_cancer.map({\"M\": 0, \"B\": 1})\n",
    "X_spam, y_spam = read_spam_dataset(SPAM_DATA_PATH)"
   ]
  },
  {
   "cell_type": "code",
   "execution_count": 12,
   "metadata": {},
   "outputs": [],
   "source": [
    "get_pos_proba = lambda x: x[1] if 1 in x.keys() else 0\n",
    "\n",
    "def make_classification_report(y_true, y_pred, y_proba):\n",
    "    print(classification_report(y_true, y_pred))\n",
    "\n",
    "    f, ax = plt.subplots(nrows=1, ncols=2, figsize=(15, 6))\n",
    "    fpr, tpr, thresholds = roc_curve(y_true, y_proba)\n",
    "    roc_score = roc_auc_score(y_true, y_proba)\n",
    "    ax[0].set_title(f\"ROC curve (AUC: {roc_score:.4f})\", fontsize=15)\n",
    "    ax[0].grid()\n",
    "    ax[0].plot(fpr, tpr)\n",
    "\n",
    "    fpr, tpr, thresholds = precision_recall_curve(y_true, y_proba)\n",
    "    ap_score = average_precision_score(y_true, y_proba)\n",
    "    ax[1].set_title(f\"PR curve (AUC: {ap_score:.4f})\", fontsize=15)\n",
    "    ax[1].grid()\n",
    "    ax[1].plot(fpr, tpr);"
   ]
  },
  {
   "cell_type": "markdown",
   "metadata": {},
   "source": [
    "# Cancer"
   ]
  },
  {
   "cell_type": "code",
   "execution_count": 13,
   "metadata": {},
   "outputs": [],
   "source": [
    "np.random.seed(SEED)\n",
    "X_train, X_test, y_train, y_test = train_test_split(X_cancer, y_cancer, test_size=0.2)"
   ]
  },
  {
   "cell_type": "markdown",
   "metadata": {},
   "source": [
    "### 1. Decision Tree"
   ]
  },
  {
   "cell_type": "code",
   "execution_count": 14,
   "metadata": {},
   "outputs": [
    {
     "name": "stdout",
     "output_type": "stream",
     "text": [
      "CPU times: user 4.23 s, sys: 47.2 ms, total: 4.28 s\n",
      "Wall time: 4.55 s\n"
     ]
    }
   ],
   "source": [
    "%%time\n",
    "tree = DecisionTreeClassifier(max_depth=4, min_samples_leaf=20)\n",
    "tree.fit(X_train, y_train)\n",
    "y_pred = tree.predict(X_test)\n",
    "y_proba = tree.predict_proba(X_test).apply(get_pos_proba)"
   ]
  },
  {
   "cell_type": "code",
   "execution_count": 15,
   "metadata": {},
   "outputs": [
    {
     "name": "stdout",
     "output_type": "stream",
     "text": [
      "              precision    recall  f1-score   support\n",
      "\n",
      "           0       0.95      0.78      0.85        45\n",
      "           1       0.87      0.97      0.92        69\n",
      "\n",
      "    accuracy                           0.89       114\n",
      "   macro avg       0.91      0.87      0.89       114\n",
      "weighted avg       0.90      0.89      0.89       114\n",
      "\n"
     ]
    },
    {
     "data": {
      "image/png": "[encoded data removed]",
      "text/plain": [
       "<Figure size 1080x432 with 2 Axes>"
      ]
     },
     "metadata": {
      "needs_background": "light"
     },
     "output_type": "display_data"
    }
   ],
   "source": [
    "make_classification_report(y_test, y_pred, y_proba)"
   ]
  },
  {
   "cell_type": "markdown",
   "metadata": {},
   "source": [
    "### 2. kNN"
   ]
  },
  {
   "cell_type": "code",
   "execution_count": 16,
   "metadata": {},
   "outputs": [],
   "source": [
    "scaler = StandardScaler()\n",
    "X_train = scaler.fit_transform(X_train)\n",
    "X_test = scaler.transform(X_test)"
   ]
  },
  {
   "cell_type": "code",
   "execution_count": 17,
   "metadata": {},
   "outputs": [],
   "source": [
    "knn = KNeighborsClassifier()\n",
    "knn.fit(X_train, y_train)\n",
    "y_pred = knn.predict(X_test)\n",
    "y_proba = knn.predict_proba(X_test)[:, 1]"
   ]
  },
  {
   "cell_type": "code",
   "execution_count": 18,
   "metadata": {},
   "outputs": [
    {
     "name": "stdout",
     "output_type": "stream",
     "text": [
      "              precision    recall  f1-score   support\n",
      "\n",
      "           0       1.00      0.84      0.92        45\n",
      "           1       0.91      1.00      0.95        69\n",
      "\n",
      "    accuracy                           0.94       114\n",
      "   macro avg       0.95      0.92      0.93       114\n",
      "weighted avg       0.94      0.94      0.94       114\n",
      "\n"
     ]
    },
    {
     "data": {
      "image/png": "[encoded data removed]",
      "text/plain": [
       "<Figure size 1080x432 with 2 Axes>"
      ]
     },
     "metadata": {
      "needs_background": "light"
     },
     "output_type": "display_data"
    }
   ],
   "source": [
    "make_classification_report(y_test, y_pred, y_proba)"
   ]
  },
  {
   "cell_type": "markdown",
   "metadata": {},
   "source": [
    "# Spam"
   ]
  },
  {
   "cell_type": "code",
   "execution_count": 19,
   "metadata": {},
   "outputs": [],
   "source": [
    "np.random.seed(SEED)\n",
    "X_train, X_test, y_train, y_test = train_test_split(X_spam, y_spam, test_size=0.2)"
   ]
  },
  {
   "cell_type": "markdown",
   "metadata": {},
   "source": [
    "### 1. Decision Tree"
   ]
  },
  {
   "cell_type": "code",
   "execution_count": 20,
   "metadata": {},
   "outputs": [
    {
     "name": "stdout",
     "output_type": "stream",
     "text": [
      "CPU times: user 11.4 s, sys: 21 ms, total: 11.4 s\n",
      "Wall time: 11.5 s\n"
     ]
    }
   ],
   "source": [
    "%%time\n",
    "tree = DecisionTreeClassifier(max_depth=7, min_samples_leaf=30)\n",
    "tree.fit(X_train, y_train)\n",
    "y_pred = tree.predict(X_test)\n",
    "y_proba = tree.predict_proba(X_test).apply(get_pos_proba)"
   ]
  },
  {
   "cell_type": "code",
   "execution_count": 21,
   "metadata": {},
   "outputs": [
    {
     "name": "stdout",
     "output_type": "stream",
     "text": [
      "              precision    recall  f1-score   support\n",
      "\n",
      "           0       0.91      0.94      0.92       550\n",
      "           1       0.90      0.86      0.88       371\n",
      "\n",
      "    accuracy                           0.90       921\n",
      "   macro avg       0.90      0.90      0.90       921\n",
      "weighted avg       0.90      0.90      0.90       921\n",
      "\n"
     ]
    },
    {
     "data": {
      "image/png": "[encoded data removed]",
      "text/plain": [
       "<Figure size 1080x432 with 2 Axes>"
      ]
     },
     "metadata": {
      "needs_background": "light"
     },
     "output_type": "display_data"
    }
   ],
   "source": [
    "make_classification_report(y_test, y_pred, y_proba)"
   ]
  },
  {
   "cell_type": "markdown",
   "metadata": {},
   "source": [
    "### 2. kNN"
   ]
  },
  {
   "cell_type": "code",
   "execution_count": 22,
   "metadata": {},
   "outputs": [],
   "source": [
    "scaler = StandardScaler()\n",
    "X_train = scaler.fit_transform(X_train)\n",
    "X_test = scaler.transform(X_test)"
   ]
  },
  {
   "cell_type": "code",
   "execution_count": 23,
   "metadata": {},
   "outputs": [],
   "source": [
    "knn = KNeighborsClassifier()\n",
    "knn.fit(X_train, y_train)\n",
    "y_pred = knn.predict(X_test)\n",
    "y_proba = knn.predict_proba(X_test)[:, 1]"
   ]
  },
  {
   "cell_type": "code",
   "execution_count": 24,
   "metadata": {},
   "outputs": [
    {
     "name": "stdout",
     "output_type": "stream",
     "text": [
      "              precision    recall  f1-score   support\n",
      "\n",
      "           0       0.91      0.92      0.92       550\n",
      "           1       0.88      0.87      0.87       371\n",
      "\n",
      "    accuracy                           0.90       921\n",
      "   macro avg       0.90      0.89      0.89       921\n",
      "weighted avg       0.90      0.90      0.90       921\n",
      "\n"
     ]
    },
    {
     "data": {
      "image/png": "[encoded data removed]",
      "text/plain": [
       "<Figure size 1080x432 with 2 Axes>"
      ]
     },
     "metadata": {
      "needs_background": "light"
     },
     "output_type": "display_data"
    }
   ],
   "source": [
    "make_classification_report(y_test, y_pred, y_proba)"
   ]
  },
  {
   "cell_type": "markdown",
   "metadata": {},
   "source": [
    "# Discussion"
   ]
  },
  {
   "cell_type": "markdown",
   "metadata": {},
   "source": [
    "В целом kNN показывает более высокое или такое же качество предсказаний по сравнению с деревом. Это может быть связано с тем, что искомая разделяющая поверхность существенно отличается от гиперплоскости и лучше аппроксимируется метрическим подходом, чем деревом"
   ]
  }
 ],
 "metadata": {
  "kernelspec": {
   "display_name": "Python 3",
   "language": "python",
   "name": "python3"
  },
  "language_info": {
   "codemirror_mode": {
    "name": "ipython",
    "version": 3
   },
   "file_extension": ".py",
   "mimetype": "text/x-python",
   "name": "python",
   "nbconvert_exporter": "python",
   "pygments_lexer": "ipython3",
   "version": "3.7.4"
  }
 },
 "nbformat": 4,
 "nbformat_minor": 4
}
