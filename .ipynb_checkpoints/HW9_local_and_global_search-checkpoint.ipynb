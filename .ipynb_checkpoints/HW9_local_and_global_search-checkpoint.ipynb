{
 "cells": [
  {
   "cell_type": "markdown",
   "metadata": {},
   "source": [
    "## Локальный и глобальный поиск"
   ]
  },
  {
   "cell_type": "markdown",
   "metadata": {},
   "source": [
    "Решите задачу коммивояжера на основе файла данных `hw9_data/tsp.csv`: найти минимальный НЕЦИКЛИЧЕСКИЙ путь (начинается и заканчивается в разных точках), соединяющий N точек. Файл содержит координаты каждого из городов на плоскости (1й столбец - номер города, 2й и 3й - координаты). Используйте L1 расстояние для расчетов и визуализации.\n",
    "\n"
   ]
  },
  {
   "cell_type": "code",
   "execution_count": 1,
   "metadata": {},
   "outputs": [],
   "source": [
    "import numpy as np\n",
    "import pandas as pd\n",
    "from tqdm import tqdm\n",
    "from numba import njit\n",
    "from copy import deepcopy\n",
    "\n",
    "import warnings\n",
    "warnings.filterwarnings(\"ignore\")\n",
    "\n",
    "SEED = 19"
   ]
  },
  {
   "cell_type": "code",
   "execution_count": 2,
   "metadata": {},
   "outputs": [
    {
     "name": "stdout",
     "output_type": "stream",
     "text": [
      "Number of cities: 52\n"
     ]
    },
    {
     "data": {
      "text/html": [
       "<div>\n",
       "<style scoped>\n",
       "    .dataframe tbody tr th:only-of-type {\n",
       "        vertical-align: middle;\n",
       "    }\n",
       "\n",
       "    .dataframe tbody tr th {\n",
       "        vertical-align: top;\n",
       "    }\n",
       "\n",
       "    .dataframe thead th {\n",
       "        text-align: right;\n",
       "    }\n",
       "</style>\n",
       "<table border=\"1\" class=\"dataframe\">\n",
       "  <thead>\n",
       "    <tr style=\"text-align: right;\">\n",
       "      <th></th>\n",
       "      <th>x</th>\n",
       "      <th>y</th>\n",
       "    </tr>\n",
       "  </thead>\n",
       "  <tbody>\n",
       "    <tr>\n",
       "      <td>0</td>\n",
       "      <td>565</td>\n",
       "      <td>575</td>\n",
       "    </tr>\n",
       "    <tr>\n",
       "      <td>1</td>\n",
       "      <td>25</td>\n",
       "      <td>185</td>\n",
       "    </tr>\n",
       "    <tr>\n",
       "      <td>2</td>\n",
       "      <td>345</td>\n",
       "      <td>750</td>\n",
       "    </tr>\n",
       "    <tr>\n",
       "      <td>3</td>\n",
       "      <td>945</td>\n",
       "      <td>685</td>\n",
       "    </tr>\n",
       "    <tr>\n",
       "      <td>4</td>\n",
       "      <td>845</td>\n",
       "      <td>655</td>\n",
       "    </tr>\n",
       "  </tbody>\n",
       "</table>\n",
       "</div>"
      ],
      "text/plain": [
       "     x    y\n",
       "0  565  575\n",
       "1   25  185\n",
       "2  345  750\n",
       "3  945  685\n",
       "4  845  655"
      ]
     },
     "execution_count": 2,
     "metadata": {},
     "output_type": "execute_result"
    }
   ],
   "source": [
    "data = pd.read_csv(\"./hw9_data/tsp.csv\", header=None).drop(columns=[0])\n",
    "data.columns = [\"x\", \"y\"]\n",
    "print(f\"Number of cities: {len(data)}\")\n",
    "data.head()"
   ]
  },
  {
   "cell_type": "code",
   "execution_count": 3,
   "metadata": {},
   "outputs": [],
   "source": [
    "@njit\n",
    "def dist_l1(a, b):\n",
    "    return np.sum(np.abs(a - b))\n",
    "\n",
    "@njit\n",
    "def get_path_len(data, path):\n",
    "    length = 0\n",
    "    for i in range(len(path)-1):\n",
    "        city0 = data[path[i], :]\n",
    "        city1 = data[path[i+1], :]\n",
    "        length += dist_l1(city0, city1)\n",
    "    return length"
   ]
  },
  {
   "cell_type": "code",
   "execution_count": 4,
   "metadata": {},
   "outputs": [
    {
     "data": {
      "text/plain": [
       "27815"
      ]
     },
     "execution_count": 4,
     "metadata": {},
     "output_type": "execute_result"
    }
   ],
   "source": [
    "base_path = np.array(data.index)\n",
    "get_path_len(data.values, base_path)"
   ]
  },
  {
   "cell_type": "markdown",
   "metadata": {},
   "source": [
    "### Задание 1 (1 балл) \n",
    "\n",
    "Реализуйте Монте-Карло поиск."
   ]
  },
  {
   "cell_type": "code",
   "execution_count": 5,
   "metadata": {},
   "outputs": [],
   "source": [
    "def mc_search(data, n_iter, rs=SEED):\n",
    "    np.random.seed(rs)\n",
    "    base_path = list(data.index)\n",
    "    best = np.inf, None\n",
    "    for _ in tqdm(range(n_iter)):\n",
    "        random_path = np.random.choice(base_path, replace=False, size=len(base_path))\n",
    "        length = get_path_len(data.values, random_path)\n",
    "        if length < best[0]:\n",
    "            best = length, random_path\n",
    "    return best"
   ]
  },
  {
   "cell_type": "code",
   "execution_count": 6,
   "metadata": {},
   "outputs": [
    {
     "name": "stderr",
     "output_type": "stream",
     "text": [
      "100%|██████████| 100000/100000 [00:07<00:00, 13189.75it/s]"
     ]
    },
    {
     "name": "stdout",
     "output_type": "stream",
     "text": [
      "Shortest path: 27970\n"
     ]
    },
    {
     "name": "stderr",
     "output_type": "stream",
     "text": [
      "\n"
     ]
    }
   ],
   "source": [
    "path_len, path = mc_search(data, n_iter=int(1e5))\n",
    "print(f\"Shortest path: {path_len}\")"
   ]
  },
  {
   "cell_type": "markdown",
   "metadata": {},
   "source": [
    "### Задание 2 (1 балл) \n",
    "\n",
    "Реализуйте поиск случайным блужданием."
   ]
  },
  {
   "cell_type": "code",
   "execution_count": 7,
   "metadata": {},
   "outputs": [],
   "source": [
    "def rw_search(data, frac, n_trials, n_steps, rs=SEED):\n",
    "    np.random.seed(SEED)\n",
    "    base_path = np.array(data.index)\n",
    "    best = np.inf, None\n",
    "    for _ in tqdm(range(n_steps)):\n",
    "        for _ in range(n_trials):\n",
    "            path = deepcopy(base_path)\n",
    "            # выбираем случайные точки маршрута и перемешиваем города на них\n",
    "            picked = np.random.choice(range(len(data)), replace=False, size=round(frac*len(data)))\n",
    "            shuffled = np.random.choice(path[picked], replace=False, size=len(picked))\n",
    "            for i, idx in enumerate(picked):\n",
    "                path[idx] = shuffled[i]\n",
    "            length = get_path_len(data.values, path)\n",
    "            if length < best[0]:\n",
    "                best = length, path\n",
    "        base_path = best[1]\n",
    "    return best"
   ]
  },
  {
   "cell_type": "code",
   "execution_count": 8,
   "metadata": {},
   "outputs": [
    {
     "name": "stderr",
     "output_type": "stream",
     "text": [
      "100%|██████████| 1000/1000 [00:14<00:00, 69.47it/s]"
     ]
    },
    {
     "name": "stdout",
     "output_type": "stream",
     "text": [
      "Shortest path: 12430\n"
     ]
    },
    {
     "name": "stderr",
     "output_type": "stream",
     "text": [
      "\n"
     ]
    }
   ],
   "source": [
    "path_len, path = rw_search(data, frac=0.1, n_trials=100, n_steps=1000)\n",
    "print(f\"Shortest path: {path_len}\")"
   ]
  },
  {
   "cell_type": "markdown",
   "metadata": {},
   "source": [
    "### Задание 3 (2 балла) \n",
    "\n",
    "Реализуйте Hill Climb."
   ]
  },
  {
   "cell_type": "code",
   "execution_count": 9,
   "metadata": {},
   "outputs": [],
   "source": [
    "def hill_climb_search(data, frac, n_iter, stochastic=False, rs=SEED):\n",
    "    np.random.seed(rs)\n",
    "    best = np.inf, np.array(data.index)\n",
    "    for _ in tqdm(range(n_iter)):\n",
    "        path = deepcopy(best[1])\n",
    "        # выбираем случайные точки маршрута и перемешиваем города на них\n",
    "        picked = np.random.choice(range(len(data)), replace=False, size=round(frac*len(data))).astype(int)\n",
    "        shuffled = np.random.choice(path[picked], replace=False, size=len(picked))\n",
    "        for i, idx in enumerate(picked):\n",
    "            path[idx] = shuffled[i]\n",
    "        length = get_path_len(data.values, path)\n",
    "        shift = np.random.binomial(1, np.exp(min(0, best[0] - length))) if stochastic \\\n",
    "                else length < best[0]\n",
    "        best = (length, path) if shift else best\n",
    "    return best"
   ]
  },
  {
   "cell_type": "code",
   "execution_count": 10,
   "metadata": {
    "scrolled": true
   },
   "outputs": [
    {
     "name": "stderr",
     "output_type": "stream",
     "text": [
      "100%|██████████| 100000/100000 [00:16<00:00, 6095.06it/s]"
     ]
    },
    {
     "name": "stdout",
     "output_type": "stream",
     "text": [
      "Shortest path: 12305\n"
     ]
    },
    {
     "name": "stderr",
     "output_type": "stream",
     "text": [
      "\n"
     ]
    }
   ],
   "source": [
    "path_len, path = hill_climb_search(data, frac=0.1, n_iter=100000, stochastic=True)\n",
    "print(f\"Shortest path: {path_len}\")"
   ]
  },
  {
   "cell_type": "code",
   "execution_count": 11,
   "metadata": {},
   "outputs": [
    {
     "name": "stderr",
     "output_type": "stream",
     "text": [
      "100%|██████████| 100000/100000 [00:14<00:00, 6765.44it/s]"
     ]
    },
    {
     "name": "stdout",
     "output_type": "stream",
     "text": [
      "Shortest path: 11790\n"
     ]
    },
    {
     "name": "stderr",
     "output_type": "stream",
     "text": [
      "\n"
     ]
    }
   ],
   "source": [
    "path_len, path = hill_climb_search(data, frac=0.1, n_iter=100000, stochastic=False)\n",
    "print(f\"Shortest path: {path_len}\")"
   ]
  },
  {
   "cell_type": "markdown",
   "metadata": {},
   "source": [
    "### Задание 4 (3 балла) \n",
    "\n",
    "\n",
    "Реализуйте отжиг (simulated annealing). Температурный режим отжига выберите самостоятельно."
   ]
  },
  {
   "cell_type": "code",
   "execution_count": 12,
   "metadata": {},
   "outputs": [],
   "source": [
    "def anneal_search(data, frac, t0, t1, n_iter, regime=\"linear\", rs=SEED):\n",
    "    assert regime in [\"linear\", \"exponential\"]\n",
    "    assert t0 > t1\n",
    "    np.random.seed(rs)\n",
    "    best = np.inf, np.array(data.index)\n",
    "    t_list = np.linspace(t0, t1, n_iter) if regime == \"linear\" else \\\n",
    "             np.logspace(np.log(t0), np.log(t1), n_iter, base=np.e)\n",
    "    for t in tqdm(t_list):\n",
    "        path = deepcopy(best[1])\n",
    "        # выбираем случайные точки маршрута и перемешиваем города на них\n",
    "        picked = np.random.choice(range(len(data)), replace=False, size=round(frac*len(data))).astype(int)\n",
    "        shuffled = np.random.choice(path[picked], replace=False, size=len(picked))\n",
    "        for i, idx in enumerate(picked):\n",
    "            path[idx] = shuffled[i]\n",
    "        length = get_path_len(data.values, path)\n",
    "        shift = np.random.binomial(1, np.exp(min(0, (best[0] - length)/t)))\n",
    "        best = (length, path) if shift else best\n",
    "    return best"
   ]
  },
  {
   "cell_type": "code",
   "execution_count": 13,
   "metadata": {},
   "outputs": [
    {
     "name": "stderr",
     "output_type": "stream",
     "text": [
      "100%|██████████| 100000/100000 [00:16<00:00, 6162.68it/s]"
     ]
    },
    {
     "name": "stdout",
     "output_type": "stream",
     "text": [
      "Shortest path: 14945\n"
     ]
    },
    {
     "name": "stderr",
     "output_type": "stream",
     "text": [
      "\n"
     ]
    }
   ],
   "source": [
    "path_len, path = anneal_search(data, frac=0.1, t0=1000, t1=100, n_iter=100000, regime=\"linear\")\n",
    "print(f\"Shortest path: {path_len}\")"
   ]
  },
  {
   "cell_type": "code",
   "execution_count": 14,
   "metadata": {},
   "outputs": [
    {
     "name": "stderr",
     "output_type": "stream",
     "text": [
      "100%|██████████| 100000/100000 [00:16<00:00, 6220.17it/s]"
     ]
    },
    {
     "name": "stdout",
     "output_type": "stream",
     "text": [
      "Shortest path: 12960\n"
     ]
    },
    {
     "name": "stderr",
     "output_type": "stream",
     "text": [
      "\n"
     ]
    }
   ],
   "source": [
    "path_len, path = anneal_search(data, frac=0.1, t0=1000, t1=100, n_iter=100000, regime=\"exponential\")\n",
    "print(f\"Shortest path: {path_len}\")"
   ]
  },
  {
   "cell_type": "markdown",
   "metadata": {},
   "source": [
    "### Задание 5 (3 балла) \n",
    "\n",
    "Реализуйте генетический алгоритм."
   ]
  },
  {
   "cell_type": "code",
   "execution_count": 17,
   "metadata": {},
   "outputs": [],
   "source": [
    "def genetic_search(data, pop_size, n_iter, best_frac, rs=SEED):\n",
    "    np.random.seed(rs)\n",
    "    population = [np.random.choice(base_path, replace=False, size=len(base_path)) for _ in range(pop_size)]\n",
    "    population = [(path, get_path_len(data.values, path)) for path in population]\n",
    "    population = sorted(population, key=lambda x: x[1], reverse=True)\n",
    "    for _ in tqdm(range(n_iter)):\n",
    "        elite_units = np.array([path for path, length in population[:int(best_frac*pop_size)]])\n",
    "        picked = np.random.choice(range(len(elite_units)), replace=False, size=2)\n",
    "        male, female = elite_units[picked]\n",
    "        picked = np.array(np.random.choice(range(len(data)), size=int(len(data)/2), replace=False))\n",
    "        male = list(male[picked])\n",
    "        female = [x for x in female if x not in male]\n",
    "        offspring = []\n",
    "        while male or female:\n",
    "            try:\n",
    "                offspring.append(male.pop(0) if np.random.binomial(1, 0.5) else female.pop(0))\n",
    "            except IndexError:\n",
    "                continue\n",
    "        population[-1] = np.array(offspring)\n",
    "        population = sorted(population, key=lambda x: x[1], reverse=True)\n",
    "    return population[0]"
   ]
  },
  {
   "cell_type": "code",
   "execution_count": 18,
   "metadata": {},
   "outputs": [
    {
     "name": "stderr",
     "output_type": "stream",
     "text": [
      "100%|██████████| 10000/10000 [00:18<00:00, 553.29it/s]\n"
     ]
    },
    {
     "name": "stdout",
     "output_type": "stream",
     "text": [
      "Shortest path: 44175\n"
     ]
    }
   ],
   "source": [
    "path, path_len = genetic_search(data, pop_size=10000, n_iter=10000, best_frac=0.1)\n",
    "print(f\"Shortest path: {path_len}\")"
   ]
  }
 ],
 "metadata": {
  "kernelspec": {
   "display_name": "Python 3",
   "language": "python",
   "name": "python3"
  },
  "language_info": {
   "codemirror_mode": {
    "name": "ipython",
    "version": 3
   },
   "file_extension": ".py",
   "mimetype": "text/x-python",
   "name": "python",
   "nbconvert_exporter": "python",
   "pygments_lexer": "ipython3",
   "version": "3.7.4"
  }
 },
 "nbformat": 4,
 "nbformat_minor": 4
}
